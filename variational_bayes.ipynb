{
 "cells": [
  {
   "cell_type": "code",
   "execution_count": 19,
   "metadata": {},
   "outputs": [],
   "source": [
    "import numpy as np\n",
    "from scipy.optimize import minimize\n",
    "from scipy.stats import norm\n",
    "import tqdm \n",
    "\n",
    "def fi(mu_i, i, mu_minus_i, sigma, gamma, X, Y, lamb):\n",
    "    f = mu_i * (X.T @ X)[i, np.arange(X.shape[1])!=i] @ (gamma[np.arange(len(gamma))!=i] * mu_minus_i)\n",
    "    f += 0.5*(X.T @ X)[i, i] * mu_i**2\n",
    "    f -= (Y.T @ X)[i] * mu_i\n",
    "    f += lamb * sigma[i] * np.sqrt(2/np.pi) * np.exp(-mu_i**2/(2*sigma[i]**2))\n",
    "    f += lamb * mu_i * (1 - 2*norm.cdf(-mu_i/sigma[i]))\n",
    "\n",
    "    return f\n",
    "\n",
    "\n",
    "def gi(sigma_i, i, mu, X, lamb):\n",
    "\n",
    "    g = 0.5 * (X.T @ X)[i, i] * sigma_i**2\n",
    "    g += lamb * mu[i] * sigma_i * np.sqrt(2/np.pi) * np.exp(-mu[i]**2/(2*sigma_i**2))\n",
    "    g += lamb * mu[i] * (1 - norm.cdf(mu[i]/sigma_i))\n",
    "    g += - np.log(sigma_i)\n",
    "    return g\n",
    "\n",
    "def Gamma_function(i, mu, sigma, gamma, X, Y, a0, b0, lamb):\n",
    "    Gamma = np.log(a0/b0)\n",
    "    Gamma += np.log(np.sqrt(np.pi/2)*sigma[i]*lamb)\n",
    "    Gamma -= mu[i] * (X.T @ X)[i, np.arange(X.shape[1])!=i] @ (gamma[np.arange(len(gamma))!=i] * mu[np.arange(len(mu))!=i])\n",
    "    Gamma -= 0.5*(X.T @ X)[i, i] * (mu[i]**2 + sigma[i]**2)\n",
    "    Gamma += (Y.T @ X)[i] * mu[i]\n",
    "    Gamma -= lamb * sigma[i] * np.sqrt(2/np.pi) * np.exp(-mu[i]**2/(2*sigma[i]**2))\n",
    "    Gamma -= lamb * mu[i] * (1 - 2*norm.cdf(-mu[i]/sigma[i]))\n",
    "\n",
    "    return Gamma + 0.5\n",
    "\n",
    "\n",
    "def H(p, ent):\n",
    "    for j in range(len(p)):\n",
    "        if p[j] < 1 - 1e-10 and p[j] > 1e-10:\n",
    "            ent[j] = -p[j]*np.log(p[j]) - (1-p[j])*np.log(1-p[j])\n",
    "    return ent\n",
    "\n",
    "\n",
    "def mu_0(X, Y):\n",
    "    _, p = X.shape\n",
    "    return np.linalg.inv(X.T @ X + np.eye(p)) @ X.T @ Y\n",
    "\n",
    "\n",
    "def inv_logit(p):\n",
    "    if p > 0:\n",
    "        return 1. / (1. + np.exp(-p))\n",
    "    elif p <= 0:\n",
    "        return np.exp(p) / (1 + np.exp(p))\n",
    "    else:\n",
    "        print(\"AWPER\")\n",
    "        raise ValueError\n",
    "\n",
    "\n",
    "def variational_bayes(X, Y, sigma, gamma, mu, a0, b0, lamb, eps=1e-5, max_it=1):\n",
    "    deltaH = 10\n",
    "    p = len(mu)\n",
    "    it = 0\n",
    "    a = np.argsort(np.abs(mu))\n",
    "    pbar = tqdm.tqdm(total=max_it)\n",
    "    ent = H(gamma, np.random.random(p))\n",
    "    while it < max_it and deltaH >= eps:\n",
    "        pbar.update(1)\n",
    "        for j in range(p):\n",
    "            i = a[j]\n",
    "            ## update mu_i\n",
    "            mu_minus_i = mu[np.arange(len(mu))!=i]\n",
    "            res = minimize(fi, mu[i], args=(i, mu_minus_i, sigma, gamma, X, Y, lamb))\n",
    "            mu[i] = res.x\n",
    "\n",
    "            ## update gamma_i\n",
    "            cons = ({'type': 'ineq', 'fun': lambda x:  x})\n",
    "            res = minimize(gi, sigma[i], args=(i, mu, X, lamb), constraints=cons)\n",
    "            sigma[i] = res.x\n",
    "\n",
    "            ## update gamma\n",
    "            Gamma = Gamma_function(i, mu, sigma, gamma, X, Y, a0, b0, lamb)\n",
    "            gamma[i] = inv_logit(Gamma)\n",
    "\n",
    "        it += 1\n",
    "        ent_old = np.copy(ent)\n",
    "        ent = H(gamma, ent)\n",
    "        deltaH = np.max(np.abs(ent) - np.abs(ent_old))\n",
    "        print(deltaH)\n",
    "    pbar.close( )\n",
    "    return mu, sigma, gamma\n",
    "\n",
    "\n",
    "\n",
    "\n",
    "\n",
    "\n"
   ]
  },
  {
   "cell_type": "code",
   "execution_count": 20,
   "metadata": {},
   "outputs": [],
   "source": [
    "import warnings\n",
    "\n",
    "def fxn():\n",
    "    warnings.warn(\"deprecated\", DeprecationWarning)\n",
    "\n",
    "with warnings.catch_warnings():\n",
    "    warnings.simplefilter(\"ignore\")\n",
    "    fxn()\n"
   ]
  },
  {
   "cell_type": "code",
   "execution_count": 21,
   "metadata": {},
   "outputs": [
    {
     "name": "stderr",
     "output_type": "stream",
     "text": [
      "  0%|          | 0/1000 [00:00<?, ?it/s]<ipython-input-19-24dd7331de20>:21: RuntimeWarning: invalid value encountered in log\n",
      "  g += - np.log(sigma_i)\n",
      "<ipython-input-19-24dd7331de20>:21: RuntimeWarning: invalid value encountered in log\n",
      "  g += - np.log(sigma_i)\n",
      "<ipython-input-19-24dd7331de20>:21: RuntimeWarning: invalid value encountered in log\n",
      "  g += - np.log(sigma_i)\n",
      "<ipython-input-19-24dd7331de20>:19: RuntimeWarning: divide by zero encountered in true_divide\n",
      "  g += lamb * mu[i] * sigma_i * np.sqrt(2/np.pi) * np.exp(-mu[i]**2/(2*sigma_i**2))\n",
      "<ipython-input-19-24dd7331de20>:20: RuntimeWarning: divide by zero encountered in true_divide\n",
      "  g += lamb * mu[i] * (1 - norm.cdf(mu[i]/sigma_i))\n",
      "<ipython-input-19-24dd7331de20>:21: RuntimeWarning: divide by zero encountered in log\n",
      "  g += - np.log(sigma_i)\n",
      "<ipython-input-19-24dd7331de20>:21: RuntimeWarning: invalid value encountered in log\n",
      "  g += - np.log(sigma_i)\n",
      "<ipython-input-19-24dd7331de20>:19: RuntimeWarning: divide by zero encountered in true_divide\n",
      "  g += lamb * mu[i] * sigma_i * np.sqrt(2/np.pi) * np.exp(-mu[i]**2/(2*sigma_i**2))\n",
      "<ipython-input-19-24dd7331de20>:20: RuntimeWarning: divide by zero encountered in true_divide\n",
      "  g += lamb * mu[i] * (1 - norm.cdf(mu[i]/sigma_i))\n",
      "<ipython-input-19-24dd7331de20>:21: RuntimeWarning: divide by zero encountered in log\n",
      "  g += - np.log(sigma_i)\n",
      "<ipython-input-19-24dd7331de20>:21: RuntimeWarning: invalid value encountered in log\n",
      "  g += - np.log(sigma_i)\n",
      "<ipython-input-19-24dd7331de20>:19: RuntimeWarning: divide by zero encountered in true_divide\n",
      "  g += lamb * mu[i] * sigma_i * np.sqrt(2/np.pi) * np.exp(-mu[i]**2/(2*sigma_i**2))\n",
      "<ipython-input-19-24dd7331de20>:20: RuntimeWarning: divide by zero encountered in true_divide\n",
      "  g += lamb * mu[i] * (1 - norm.cdf(mu[i]/sigma_i))\n",
      "<ipython-input-19-24dd7331de20>:21: RuntimeWarning: divide by zero encountered in log\n",
      "  g += - np.log(sigma_i)\n",
      "<ipython-input-19-24dd7331de20>:21: RuntimeWarning: invalid value encountered in log\n",
      "  g += - np.log(sigma_i)\n",
      "<ipython-input-19-24dd7331de20>:21: RuntimeWarning: invalid value encountered in log\n",
      "  g += - np.log(sigma_i)\n",
      "<ipython-input-19-24dd7331de20>:19: RuntimeWarning: divide by zero encountered in true_divide\n",
      "  g += lamb * mu[i] * sigma_i * np.sqrt(2/np.pi) * np.exp(-mu[i]**2/(2*sigma_i**2))\n",
      "<ipython-input-19-24dd7331de20>:20: RuntimeWarning: divide by zero encountered in true_divide\n",
      "  g += lamb * mu[i] * (1 - norm.cdf(mu[i]/sigma_i))\n",
      "<ipython-input-19-24dd7331de20>:21: RuntimeWarning: divide by zero encountered in log\n",
      "  g += - np.log(sigma_i)\n",
      "<ipython-input-19-24dd7331de20>:21: RuntimeWarning: invalid value encountered in log\n",
      "  g += - np.log(sigma_i)\n",
      "<ipython-input-19-24dd7331de20>:19: RuntimeWarning: divide by zero encountered in true_divide\n",
      "  g += lamb * mu[i] * sigma_i * np.sqrt(2/np.pi) * np.exp(-mu[i]**2/(2*sigma_i**2))\n",
      "<ipython-input-19-24dd7331de20>:20: RuntimeWarning: divide by zero encountered in true_divide\n",
      "  g += lamb * mu[i] * (1 - norm.cdf(mu[i]/sigma_i))\n",
      "<ipython-input-19-24dd7331de20>:21: RuntimeWarning: divide by zero encountered in log\n",
      "  g += - np.log(sigma_i)\n",
      "<ipython-input-19-24dd7331de20>:21: RuntimeWarning: invalid value encountered in log\n",
      "  g += - np.log(sigma_i)\n",
      "<ipython-input-19-24dd7331de20>:19: RuntimeWarning: divide by zero encountered in true_divide\n",
      "  g += lamb * mu[i] * sigma_i * np.sqrt(2/np.pi) * np.exp(-mu[i]**2/(2*sigma_i**2))\n",
      "<ipython-input-19-24dd7331de20>:20: RuntimeWarning: divide by zero encountered in true_divide\n",
      "  g += lamb * mu[i] * (1 - norm.cdf(mu[i]/sigma_i))\n",
      "<ipython-input-19-24dd7331de20>:21: RuntimeWarning: divide by zero encountered in log\n",
      "  g += - np.log(sigma_i)\n",
      "<ipython-input-19-24dd7331de20>:21: RuntimeWarning: invalid value encountered in log\n",
      "  g += - np.log(sigma_i)\n",
      "<ipython-input-19-24dd7331de20>:19: RuntimeWarning: divide by zero encountered in true_divide\n",
      "  g += lamb * mu[i] * sigma_i * np.sqrt(2/np.pi) * np.exp(-mu[i]**2/(2*sigma_i**2))\n",
      "<ipython-input-19-24dd7331de20>:20: RuntimeWarning: divide by zero encountered in true_divide\n",
      "  g += lamb * mu[i] * (1 - norm.cdf(mu[i]/sigma_i))\n",
      "<ipython-input-19-24dd7331de20>:21: RuntimeWarning: divide by zero encountered in log\n",
      "  g += - np.log(sigma_i)\n",
      "<ipython-input-19-24dd7331de20>:21: RuntimeWarning: invalid value encountered in log\n",
      "  g += - np.log(sigma_i)\n",
      "<ipython-input-19-24dd7331de20>:19: RuntimeWarning: divide by zero encountered in true_divide\n",
      "  g += lamb * mu[i] * sigma_i * np.sqrt(2/np.pi) * np.exp(-mu[i]**2/(2*sigma_i**2))\n",
      "<ipython-input-19-24dd7331de20>:20: RuntimeWarning: divide by zero encountered in true_divide\n",
      "  g += lamb * mu[i] * (1 - norm.cdf(mu[i]/sigma_i))\n",
      "<ipython-input-19-24dd7331de20>:21: RuntimeWarning: divide by zero encountered in log\n",
      "  g += - np.log(sigma_i)\n",
      "<ipython-input-19-24dd7331de20>:21: RuntimeWarning: invalid value encountered in log\n",
      "  g += - np.log(sigma_i)\n",
      "<ipython-input-19-24dd7331de20>:19: RuntimeWarning: divide by zero encountered in true_divide\n",
      "  g += lamb * mu[i] * sigma_i * np.sqrt(2/np.pi) * np.exp(-mu[i]**2/(2*sigma_i**2))\n",
      "<ipython-input-19-24dd7331de20>:20: RuntimeWarning: divide by zero encountered in true_divide\n",
      "  g += lamb * mu[i] * (1 - norm.cdf(mu[i]/sigma_i))\n",
      "<ipython-input-19-24dd7331de20>:21: RuntimeWarning: divide by zero encountered in log\n",
      "  g += - np.log(sigma_i)\n",
      "<ipython-input-19-24dd7331de20>:21: RuntimeWarning: invalid value encountered in log\n",
      "  g += - np.log(sigma_i)\n",
      "<ipython-input-19-24dd7331de20>:19: RuntimeWarning: divide by zero encountered in true_divide\n",
      "  g += lamb * mu[i] * sigma_i * np.sqrt(2/np.pi) * np.exp(-mu[i]**2/(2*sigma_i**2))\n",
      "<ipython-input-19-24dd7331de20>:20: RuntimeWarning: divide by zero encountered in true_divide\n",
      "  g += lamb * mu[i] * (1 - norm.cdf(mu[i]/sigma_i))\n",
      "<ipython-input-19-24dd7331de20>:21: RuntimeWarning: divide by zero encountered in log\n",
      "  g += - np.log(sigma_i)\n",
      "<ipython-input-19-24dd7331de20>:21: RuntimeWarning: invalid value encountered in log\n",
      "  g += - np.log(sigma_i)\n",
      "<ipython-input-19-24dd7331de20>:19: RuntimeWarning: divide by zero encountered in true_divide\n",
      "  g += lamb * mu[i] * sigma_i * np.sqrt(2/np.pi) * np.exp(-mu[i]**2/(2*sigma_i**2))\n",
      "<ipython-input-19-24dd7331de20>:20: RuntimeWarning: divide by zero encountered in true_divide\n",
      "  g += lamb * mu[i] * (1 - norm.cdf(mu[i]/sigma_i))\n",
      "<ipython-input-19-24dd7331de20>:21: RuntimeWarning: divide by zero encountered in log\n",
      "  g += - np.log(sigma_i)\n",
      "<ipython-input-19-24dd7331de20>:21: RuntimeWarning: invalid value encountered in log\n",
      "  g += - np.log(sigma_i)\n",
      "<ipython-input-19-24dd7331de20>:19: RuntimeWarning: divide by zero encountered in true_divide\n",
      "  g += lamb * mu[i] * sigma_i * np.sqrt(2/np.pi) * np.exp(-mu[i]**2/(2*sigma_i**2))\n",
      "<ipython-input-19-24dd7331de20>:20: RuntimeWarning: divide by zero encountered in true_divide\n",
      "  g += lamb * mu[i] * (1 - norm.cdf(mu[i]/sigma_i))\n",
      "<ipython-input-19-24dd7331de20>:21: RuntimeWarning: divide by zero encountered in log\n",
      "  g += - np.log(sigma_i)\n",
      "<ipython-input-19-24dd7331de20>:21: RuntimeWarning: invalid value encountered in log\n",
      "  g += - np.log(sigma_i)\n",
      "<ipython-input-19-24dd7331de20>:19: RuntimeWarning: divide by zero encountered in true_divide\n",
      "  g += lamb * mu[i] * sigma_i * np.sqrt(2/np.pi) * np.exp(-mu[i]**2/(2*sigma_i**2))\n",
      "<ipython-input-19-24dd7331de20>:20: RuntimeWarning: divide by zero encountered in true_divide\n",
      "  g += lamb * mu[i] * (1 - norm.cdf(mu[i]/sigma_i))\n",
      "<ipython-input-19-24dd7331de20>:21: RuntimeWarning: divide by zero encountered in log\n",
      "  g += - np.log(sigma_i)\n",
      "<ipython-input-19-24dd7331de20>:21: RuntimeWarning: invalid value encountered in log\n",
      "  g += - np.log(sigma_i)\n",
      "<ipython-input-19-24dd7331de20>:19: RuntimeWarning: divide by zero encountered in true_divide\n",
      "  g += lamb * mu[i] * sigma_i * np.sqrt(2/np.pi) * np.exp(-mu[i]**2/(2*sigma_i**2))\n",
      "<ipython-input-19-24dd7331de20>:20: RuntimeWarning: divide by zero encountered in true_divide\n",
      "  g += lamb * mu[i] * (1 - norm.cdf(mu[i]/sigma_i))\n",
      "<ipython-input-19-24dd7331de20>:21: RuntimeWarning: divide by zero encountered in log\n",
      "  g += - np.log(sigma_i)\n",
      "<ipython-input-19-24dd7331de20>:21: RuntimeWarning: invalid value encountered in log\n",
      "  g += - np.log(sigma_i)\n",
      "<ipython-input-19-24dd7331de20>:19: RuntimeWarning: divide by zero encountered in true_divide\n",
      "  g += lamb * mu[i] * sigma_i * np.sqrt(2/np.pi) * np.exp(-mu[i]**2/(2*sigma_i**2))\n",
      "<ipython-input-19-24dd7331de20>:20: RuntimeWarning: divide by zero encountered in true_divide\n",
      "  g += lamb * mu[i] * (1 - norm.cdf(mu[i]/sigma_i))\n",
      "<ipython-input-19-24dd7331de20>:21: RuntimeWarning: divide by zero encountered in log\n",
      "  g += - np.log(sigma_i)\n",
      "<ipython-input-19-24dd7331de20>:21: RuntimeWarning: invalid value encountered in log\n",
      "  g += - np.log(sigma_i)\n",
      "<ipython-input-19-24dd7331de20>:21: RuntimeWarning: invalid value encountered in log\n",
      "  g += - np.log(sigma_i)\n",
      "<ipython-input-19-24dd7331de20>:19: RuntimeWarning: divide by zero encountered in true_divide\n",
      "  g += lamb * mu[i] * sigma_i * np.sqrt(2/np.pi) * np.exp(-mu[i]**2/(2*sigma_i**2))\n",
      "<ipython-input-19-24dd7331de20>:20: RuntimeWarning: divide by zero encountered in true_divide\n",
      "  g += lamb * mu[i] * (1 - norm.cdf(mu[i]/sigma_i))\n",
      "<ipython-input-19-24dd7331de20>:21: RuntimeWarning: divide by zero encountered in log\n",
      "  g += - np.log(sigma_i)\n",
      "<ipython-input-19-24dd7331de20>:21: RuntimeWarning: invalid value encountered in log\n",
      "  g += - np.log(sigma_i)\n",
      "<ipython-input-19-24dd7331de20>:19: RuntimeWarning: divide by zero encountered in true_divide\n",
      "  g += lamb * mu[i] * sigma_i * np.sqrt(2/np.pi) * np.exp(-mu[i]**2/(2*sigma_i**2))\n",
      "<ipython-input-19-24dd7331de20>:20: RuntimeWarning: divide by zero encountered in true_divide\n",
      "  g += lamb * mu[i] * (1 - norm.cdf(mu[i]/sigma_i))\n",
      "<ipython-input-19-24dd7331de20>:21: RuntimeWarning: divide by zero encountered in log\n",
      "  g += - np.log(sigma_i)\n",
      "<ipython-input-19-24dd7331de20>:21: RuntimeWarning: invalid value encountered in log\n",
      "  g += - np.log(sigma_i)\n",
      "<ipython-input-19-24dd7331de20>:19: RuntimeWarning: divide by zero encountered in true_divide\n",
      "  g += lamb * mu[i] * sigma_i * np.sqrt(2/np.pi) * np.exp(-mu[i]**2/(2*sigma_i**2))\n",
      "<ipython-input-19-24dd7331de20>:20: RuntimeWarning: divide by zero encountered in true_divide\n",
      "  g += lamb * mu[i] * (1 - norm.cdf(mu[i]/sigma_i))\n",
      "<ipython-input-19-24dd7331de20>:21: RuntimeWarning: divide by zero encountered in log\n",
      "  g += - np.log(sigma_i)\n",
      "<ipython-input-19-24dd7331de20>:21: RuntimeWarning: invalid value encountered in log\n",
      "  g += - np.log(sigma_i)\n",
      "<ipython-input-19-24dd7331de20>:19: RuntimeWarning: divide by zero encountered in true_divide\n",
      "  g += lamb * mu[i] * sigma_i * np.sqrt(2/np.pi) * np.exp(-mu[i]**2/(2*sigma_i**2))\n",
      "<ipython-input-19-24dd7331de20>:20: RuntimeWarning: divide by zero encountered in true_divide\n",
      "  g += lamb * mu[i] * (1 - norm.cdf(mu[i]/sigma_i))\n",
      "<ipython-input-19-24dd7331de20>:21: RuntimeWarning: divide by zero encountered in log\n",
      "  g += - np.log(sigma_i)\n",
      "<ipython-input-19-24dd7331de20>:21: RuntimeWarning: invalid value encountered in log\n",
      "  g += - np.log(sigma_i)\n",
      "<ipython-input-19-24dd7331de20>:21: RuntimeWarning: invalid value encountered in log\n",
      "  g += - np.log(sigma_i)\n",
      "<ipython-input-19-24dd7331de20>:19: RuntimeWarning: divide by zero encountered in true_divide\n",
      "  g += lamb * mu[i] * sigma_i * np.sqrt(2/np.pi) * np.exp(-mu[i]**2/(2*sigma_i**2))\n",
      "<ipython-input-19-24dd7331de20>:20: RuntimeWarning: divide by zero encountered in true_divide\n",
      "  g += lamb * mu[i] * (1 - norm.cdf(mu[i]/sigma_i))\n",
      "<ipython-input-19-24dd7331de20>:21: RuntimeWarning: divide by zero encountered in log\n",
      "  g += - np.log(sigma_i)\n",
      "<ipython-input-19-24dd7331de20>:21: RuntimeWarning: invalid value encountered in log\n",
      "  g += - np.log(sigma_i)\n",
      "<ipython-input-19-24dd7331de20>:19: RuntimeWarning: divide by zero encountered in true_divide\n",
      "  g += lamb * mu[i] * sigma_i * np.sqrt(2/np.pi) * np.exp(-mu[i]**2/(2*sigma_i**2))\n",
      "<ipython-input-19-24dd7331de20>:20: RuntimeWarning: divide by zero encountered in true_divide\n",
      "  g += lamb * mu[i] * (1 - norm.cdf(mu[i]/sigma_i))\n",
      "<ipython-input-19-24dd7331de20>:21: RuntimeWarning: divide by zero encountered in log\n",
      "  g += - np.log(sigma_i)\n",
      "<ipython-input-19-24dd7331de20>:21: RuntimeWarning: invalid value encountered in log\n",
      "  g += - np.log(sigma_i)\n",
      "<ipython-input-19-24dd7331de20>:19: RuntimeWarning: divide by zero encountered in true_divide\n",
      "  g += lamb * mu[i] * sigma_i * np.sqrt(2/np.pi) * np.exp(-mu[i]**2/(2*sigma_i**2))\n",
      "<ipython-input-19-24dd7331de20>:20: RuntimeWarning: divide by zero encountered in true_divide\n",
      "  g += lamb * mu[i] * (1 - norm.cdf(mu[i]/sigma_i))\n",
      "<ipython-input-19-24dd7331de20>:21: RuntimeWarning: divide by zero encountered in log\n",
      "  g += - np.log(sigma_i)\n",
      "<ipython-input-19-24dd7331de20>:21: RuntimeWarning: invalid value encountered in log\n",
      "  g += - np.log(sigma_i)\n",
      "<ipython-input-19-24dd7331de20>:19: RuntimeWarning: divide by zero encountered in true_divide\n",
      "  g += lamb * mu[i] * sigma_i * np.sqrt(2/np.pi) * np.exp(-mu[i]**2/(2*sigma_i**2))\n",
      "<ipython-input-19-24dd7331de20>:20: RuntimeWarning: divide by zero encountered in true_divide\n",
      "  g += lamb * mu[i] * (1 - norm.cdf(mu[i]/sigma_i))\n",
      "<ipython-input-19-24dd7331de20>:21: RuntimeWarning: divide by zero encountered in log\n",
      "  g += - np.log(sigma_i)\n",
      "<ipython-input-19-24dd7331de20>:21: RuntimeWarning: invalid value encountered in log\n",
      "  g += - np.log(sigma_i)\n",
      "<ipython-input-19-24dd7331de20>:21: RuntimeWarning: invalid value encountered in log\n",
      "  g += - np.log(sigma_i)\n",
      "<ipython-input-19-24dd7331de20>:19: RuntimeWarning: divide by zero encountered in true_divide\n",
      "  g += lamb * mu[i] * sigma_i * np.sqrt(2/np.pi) * np.exp(-mu[i]**2/(2*sigma_i**2))\n",
      "<ipython-input-19-24dd7331de20>:20: RuntimeWarning: divide by zero encountered in true_divide\n",
      "  g += lamb * mu[i] * (1 - norm.cdf(mu[i]/sigma_i))\n",
      "<ipython-input-19-24dd7331de20>:21: RuntimeWarning: divide by zero encountered in log\n",
      "  g += - np.log(sigma_i)\n",
      "<ipython-input-19-24dd7331de20>:21: RuntimeWarning: invalid value encountered in log\n",
      "  g += - np.log(sigma_i)\n",
      "<ipython-input-19-24dd7331de20>:21: RuntimeWarning: invalid value encountered in log\n",
      "  g += - np.log(sigma_i)\n",
      "<ipython-input-19-24dd7331de20>:19: RuntimeWarning: divide by zero encountered in true_divide\n",
      "  g += lamb * mu[i] * sigma_i * np.sqrt(2/np.pi) * np.exp(-mu[i]**2/(2*sigma_i**2))\n",
      "<ipython-input-19-24dd7331de20>:20: RuntimeWarning: divide by zero encountered in true_divide\n",
      "  g += lamb * mu[i] * (1 - norm.cdf(mu[i]/sigma_i))\n",
      "<ipython-input-19-24dd7331de20>:21: RuntimeWarning: divide by zero encountered in log\n",
      "  g += - np.log(sigma_i)\n",
      "<ipython-input-19-24dd7331de20>:21: RuntimeWarning: invalid value encountered in log\n",
      "  g += - np.log(sigma_i)\n",
      "<ipython-input-19-24dd7331de20>:21: RuntimeWarning: invalid value encountered in log\n",
      "  g += - np.log(sigma_i)\n",
      "<ipython-input-19-24dd7331de20>:19: RuntimeWarning: divide by zero encountered in true_divide\n",
      "  g += lamb * mu[i] * sigma_i * np.sqrt(2/np.pi) * np.exp(-mu[i]**2/(2*sigma_i**2))\n",
      "<ipython-input-19-24dd7331de20>:20: RuntimeWarning: divide by zero encountered in true_divide\n",
      "  g += lamb * mu[i] * (1 - norm.cdf(mu[i]/sigma_i))\n",
      "<ipython-input-19-24dd7331de20>:21: RuntimeWarning: divide by zero encountered in log\n",
      "  g += - np.log(sigma_i)\n",
      "<ipython-input-19-24dd7331de20>:21: RuntimeWarning: invalid value encountered in log\n",
      "  g += - np.log(sigma_i)\n",
      "<ipython-input-19-24dd7331de20>:19: RuntimeWarning: divide by zero encountered in true_divide\n",
      "  g += lamb * mu[i] * sigma_i * np.sqrt(2/np.pi) * np.exp(-mu[i]**2/(2*sigma_i**2))\n",
      "<ipython-input-19-24dd7331de20>:20: RuntimeWarning: divide by zero encountered in true_divide\n",
      "  g += lamb * mu[i] * (1 - norm.cdf(mu[i]/sigma_i))\n",
      "<ipython-input-19-24dd7331de20>:21: RuntimeWarning: divide by zero encountered in log\n",
      "  g += - np.log(sigma_i)\n",
      "<ipython-input-19-24dd7331de20>:21: RuntimeWarning: invalid value encountered in log\n",
      "  g += - np.log(sigma_i)\n",
      "<ipython-input-19-24dd7331de20>:21: RuntimeWarning: invalid value encountered in log\n",
      "  g += - np.log(sigma_i)\n",
      "<ipython-input-19-24dd7331de20>:19: RuntimeWarning: divide by zero encountered in true_divide\n",
      "  g += lamb * mu[i] * sigma_i * np.sqrt(2/np.pi) * np.exp(-mu[i]**2/(2*sigma_i**2))\n",
      "<ipython-input-19-24dd7331de20>:20: RuntimeWarning: divide by zero encountered in true_divide\n",
      "  g += lamb * mu[i] * (1 - norm.cdf(mu[i]/sigma_i))\n",
      "<ipython-input-19-24dd7331de20>:21: RuntimeWarning: divide by zero encountered in log\n",
      "  g += - np.log(sigma_i)\n",
      "<ipython-input-19-24dd7331de20>:21: RuntimeWarning: invalid value encountered in log\n",
      "  g += - np.log(sigma_i)\n",
      "<ipython-input-19-24dd7331de20>:21: RuntimeWarning: invalid value encountered in log\n",
      "  g += - np.log(sigma_i)\n",
      "<ipython-input-19-24dd7331de20>:21: RuntimeWarning: invalid value encountered in log\n",
      "  g += - np.log(sigma_i)\n",
      "<ipython-input-19-24dd7331de20>:21: RuntimeWarning: invalid value encountered in log\n",
      "  g += - np.log(sigma_i)\n",
      "<ipython-input-19-24dd7331de20>:21: RuntimeWarning: invalid value encountered in log\n",
      "  g += - np.log(sigma_i)\n",
      "<ipython-input-19-24dd7331de20>:21: RuntimeWarning: invalid value encountered in log\n",
      "  g += - np.log(sigma_i)\n",
      "<ipython-input-19-24dd7331de20>:19: RuntimeWarning: divide by zero encountered in true_divide\n",
      "  g += lamb * mu[i] * sigma_i * np.sqrt(2/np.pi) * np.exp(-mu[i]**2/(2*sigma_i**2))\n",
      "<ipython-input-19-24dd7331de20>:20: RuntimeWarning: divide by zero encountered in true_divide\n",
      "  g += lamb * mu[i] * (1 - norm.cdf(mu[i]/sigma_i))\n",
      "<ipython-input-19-24dd7331de20>:21: RuntimeWarning: divide by zero encountered in log\n",
      "  g += - np.log(sigma_i)\n",
      "  0%|          | 2/1000 [00:05<49:20,  2.97s/it]"
     ]
    },
    {
     "name": "stdout",
     "output_type": "stream",
     "text": [
      "0.5108917659449239\n"
     ]
    },
    {
     "name": "stderr",
     "output_type": "stream",
     "text": [
      "  0%|          | 3/1000 [00:12<1:07:02,  4.03s/it]"
     ]
    },
    {
     "name": "stdout",
     "output_type": "stream",
     "text": [
      "0.05474043554878347\n"
     ]
    },
    {
     "name": "stderr",
     "output_type": "stream",
     "text": [
      "<ipython-input-19-24dd7331de20>:21: RuntimeWarning: invalid value encountered in log\n",
      "  g += - np.log(sigma_i)\n",
      "<ipython-input-19-24dd7331de20>:21: RuntimeWarning: invalid value encountered in log\n",
      "  g += - np.log(sigma_i)\n",
      "  0%|          | 4/1000 [00:17<1:14:00,  4.46s/it]"
     ]
    },
    {
     "name": "stdout",
     "output_type": "stream",
     "text": [
      "0.34366371843237714\n"
     ]
    },
    {
     "name": "stderr",
     "output_type": "stream",
     "text": [
      "<ipython-input-19-24dd7331de20>:19: RuntimeWarning: divide by zero encountered in true_divide\n",
      "  g += lamb * mu[i] * sigma_i * np.sqrt(2/np.pi) * np.exp(-mu[i]**2/(2*sigma_i**2))\n",
      "<ipython-input-19-24dd7331de20>:20: RuntimeWarning: divide by zero encountered in true_divide\n",
      "  g += lamb * mu[i] * (1 - norm.cdf(mu[i]/sigma_i))\n",
      "<ipython-input-19-24dd7331de20>:21: RuntimeWarning: divide by zero encountered in log\n",
      "  g += - np.log(sigma_i)\n",
      "  0%|          | 5/1000 [00:23<1:19:15,  4.78s/it]"
     ]
    },
    {
     "name": "stdout",
     "output_type": "stream",
     "text": [
      "0.10804762785229861\n"
     ]
    },
    {
     "name": "stderr",
     "output_type": "stream",
     "text": [
      "  1%|          | 6/1000 [00:28<1:22:10,  4.96s/it]"
     ]
    },
    {
     "name": "stdout",
     "output_type": "stream",
     "text": [
      "0.6356028418726719\n"
     ]
    },
    {
     "name": "stderr",
     "output_type": "stream",
     "text": [
      "<ipython-input-19-24dd7331de20>:21: RuntimeWarning: invalid value encountered in log\n",
      "  g += - np.log(sigma_i)\n",
      "<ipython-input-19-24dd7331de20>:19: RuntimeWarning: divide by zero encountered in true_divide\n",
      "  g += lamb * mu[i] * sigma_i * np.sqrt(2/np.pi) * np.exp(-mu[i]**2/(2*sigma_i**2))\n",
      "<ipython-input-19-24dd7331de20>:20: RuntimeWarning: divide by zero encountered in true_divide\n",
      "  g += lamb * mu[i] * (1 - norm.cdf(mu[i]/sigma_i))\n",
      "<ipython-input-19-24dd7331de20>:21: RuntimeWarning: divide by zero encountered in log\n",
      "  g += - np.log(sigma_i)\n",
      "<ipython-input-19-24dd7331de20>:19: RuntimeWarning: divide by zero encountered in true_divide\n",
      "  g += lamb * mu[i] * sigma_i * np.sqrt(2/np.pi) * np.exp(-mu[i]**2/(2*sigma_i**2))\n",
      "<ipython-input-19-24dd7331de20>:20: RuntimeWarning: divide by zero encountered in true_divide\n",
      "  g += lamb * mu[i] * (1 - norm.cdf(mu[i]/sigma_i))\n",
      "<ipython-input-19-24dd7331de20>:21: RuntimeWarning: divide by zero encountered in log\n",
      "  g += - np.log(sigma_i)\n",
      "<ipython-input-19-24dd7331de20>:19: RuntimeWarning: divide by zero encountered in true_divide\n",
      "  g += lamb * mu[i] * sigma_i * np.sqrt(2/np.pi) * np.exp(-mu[i]**2/(2*sigma_i**2))\n",
      "<ipython-input-19-24dd7331de20>:20: RuntimeWarning: divide by zero encountered in true_divide\n",
      "  g += lamb * mu[i] * (1 - norm.cdf(mu[i]/sigma_i))\n",
      "<ipython-input-19-24dd7331de20>:21: RuntimeWarning: divide by zero encountered in log\n",
      "  g += - np.log(sigma_i)\n",
      "  1%|          | 7/1000 [00:34<1:24:54,  5.13s/it]"
     ]
    },
    {
     "name": "stdout",
     "output_type": "stream",
     "text": [
      "0.14175820298852831\n"
     ]
    },
    {
     "name": "stderr",
     "output_type": "stream",
     "text": [
      "  1%|          | 8/1000 [00:39<1:27:11,  5.27s/it]"
     ]
    },
    {
     "name": "stdout",
     "output_type": "stream",
     "text": [
      "0.6926243114419135\n"
     ]
    },
    {
     "name": "stderr",
     "output_type": "stream",
     "text": [
      "<ipython-input-19-24dd7331de20>:21: RuntimeWarning: invalid value encountered in log\n",
      "  g += - np.log(sigma_i)\n",
      "<ipython-input-19-24dd7331de20>:19: RuntimeWarning: divide by zero encountered in true_divide\n",
      "  g += lamb * mu[i] * sigma_i * np.sqrt(2/np.pi) * np.exp(-mu[i]**2/(2*sigma_i**2))\n",
      "<ipython-input-19-24dd7331de20>:20: RuntimeWarning: divide by zero encountered in true_divide\n",
      "  g += lamb * mu[i] * (1 - norm.cdf(mu[i]/sigma_i))\n",
      "<ipython-input-19-24dd7331de20>:21: RuntimeWarning: divide by zero encountered in log\n",
      "  g += - np.log(sigma_i)\n",
      "  1%|          | 9/1000 [00:45<1:26:32,  5.24s/it]"
     ]
    },
    {
     "name": "stdout",
     "output_type": "stream",
     "text": [
      "0.0010456744918219346\n"
     ]
    },
    {
     "name": "stderr",
     "output_type": "stream",
     "text": [
      "  1%|          | 10/1000 [00:49<1:24:12,  5.10s/it]"
     ]
    },
    {
     "name": "stdout",
     "output_type": "stream",
     "text": [
      "0.00401599607339804\n"
     ]
    },
    {
     "name": "stderr",
     "output_type": "stream",
     "text": [
      "  1%|          | 11/1000 [00:55<1:24:29,  5.13s/it]"
     ]
    },
    {
     "name": "stdout",
     "output_type": "stream",
     "text": [
      "0.0002535740593255431\n"
     ]
    },
    {
     "name": "stderr",
     "output_type": "stream",
     "text": [
      "  1%|          | 12/1000 [01:00<1:24:30,  5.13s/it]"
     ]
    },
    {
     "name": "stdout",
     "output_type": "stream",
     "text": [
      "0.00011360491037955365\n"
     ]
    },
    {
     "name": "stderr",
     "output_type": "stream",
     "text": [
      "  1%|▏         | 13/1000 [01:04<1:21:56,  4.98s/it]"
     ]
    },
    {
     "name": "stdout",
     "output_type": "stream",
     "text": [
      "0.000400072899100707\n"
     ]
    },
    {
     "name": "stderr",
     "output_type": "stream",
     "text": [
      "  1%|▏         | 14/1000 [01:09<1:20:33,  4.90s/it]"
     ]
    },
    {
     "name": "stdout",
     "output_type": "stream",
     "text": [
      "0.0012371167764277098\n"
     ]
    },
    {
     "name": "stderr",
     "output_type": "stream",
     "text": [
      "  2%|▏         | 15/1000 [01:14<1:20:09,  4.88s/it]"
     ]
    },
    {
     "name": "stdout",
     "output_type": "stream",
     "text": [
      "0.0033373898502422304\n"
     ]
    },
    {
     "name": "stderr",
     "output_type": "stream",
     "text": [
      "  2%|▏         | 16/1000 [01:19<1:20:18,  4.90s/it]"
     ]
    },
    {
     "name": "stdout",
     "output_type": "stream",
     "text": [
      "0.007983504466992246\n"
     ]
    },
    {
     "name": "stderr",
     "output_type": "stream",
     "text": [
      "  2%|▏         | 17/1000 [01:23<1:18:51,  4.81s/it]"
     ]
    },
    {
     "name": "stdout",
     "output_type": "stream",
     "text": [
      "0.017553858924931325\n"
     ]
    },
    {
     "name": "stderr",
     "output_type": "stream",
     "text": [
      "  2%|▏         | 18/1000 [01:28<1:19:13,  4.84s/it]"
     ]
    },
    {
     "name": "stdout",
     "output_type": "stream",
     "text": [
      "0.037490122864236905\n"
     ]
    },
    {
     "name": "stderr",
     "output_type": "stream",
     "text": [
      "  2%|▏         | 19/1000 [01:33<1:20:25,  4.92s/it]"
     ]
    },
    {
     "name": "stdout",
     "output_type": "stream",
     "text": [
      "0.08465333899250792\n"
     ]
    },
    {
     "name": "stderr",
     "output_type": "stream",
     "text": [
      "  2%|▏         | 20/1000 [01:38<1:20:33,  4.93s/it]"
     ]
    },
    {
     "name": "stdout",
     "output_type": "stream",
     "text": [
      "0.22310247257240626\n"
     ]
    },
    {
     "name": "stderr",
     "output_type": "stream",
     "text": [
      "  2%|▏         | 21/1000 [01:43<1:19:20,  4.86s/it]"
     ]
    },
    {
     "name": "stdout",
     "output_type": "stream",
     "text": [
      "0.2779236654201525\n"
     ]
    },
    {
     "name": "stderr",
     "output_type": "stream",
     "text": [
      "  2%|▏         | 22/1000 [01:48<1:17:06,  4.73s/it]"
     ]
    },
    {
     "name": "stdout",
     "output_type": "stream",
     "text": [
      "0.00024307077938602378\n"
     ]
    },
    {
     "name": "stderr",
     "output_type": "stream",
     "text": [
      "  2%|▏         | 23/1000 [01:53<1:19:37,  4.89s/it]"
     ]
    },
    {
     "name": "stdout",
     "output_type": "stream",
     "text": [
      "0.001073658938856398\n"
     ]
    },
    {
     "name": "stderr",
     "output_type": "stream",
     "text": [
      "  2%|▏         | 24/1000 [01:59<1:24:06,  5.17s/it]"
     ]
    },
    {
     "name": "stdout",
     "output_type": "stream",
     "text": [
      "0.0023990473774281058\n"
     ]
    },
    {
     "name": "stderr",
     "output_type": "stream",
     "text": [
      "  2%|▎         | 25/1000 [02:08<1:44:41,  6.44s/it]"
     ]
    },
    {
     "name": "stdout",
     "output_type": "stream",
     "text": [
      "0.004264090296309442\n"
     ]
    },
    {
     "name": "stderr",
     "output_type": "stream",
     "text": [
      "  3%|▎         | 26/1000 [02:15<1:47:27,  6.62s/it]"
     ]
    },
    {
     "name": "stdout",
     "output_type": "stream",
     "text": [
      "0.007392569820392233\n"
     ]
    },
    {
     "name": "stderr",
     "output_type": "stream",
     "text": [
      "  3%|▎         | 27/1000 [02:20<1:40:19,  6.19s/it]"
     ]
    },
    {
     "name": "stdout",
     "output_type": "stream",
     "text": [
      "0.012776525571767654\n"
     ]
    },
    {
     "name": "stderr",
     "output_type": "stream",
     "text": [
      "  3%|▎         | 28/1000 [02:26<1:39:28,  6.14s/it]"
     ]
    },
    {
     "name": "stdout",
     "output_type": "stream",
     "text": [
      "0.022467075329698893\n"
     ]
    },
    {
     "name": "stderr",
     "output_type": "stream",
     "text": [
      "  3%|▎         | 29/1000 [02:32<1:37:30,  6.03s/it]"
     ]
    },
    {
     "name": "stdout",
     "output_type": "stream",
     "text": [
      "0.04161480463498149\n"
     ]
    },
    {
     "name": "stderr",
     "output_type": "stream",
     "text": [
      "  3%|▎         | 30/1000 [02:38<1:37:26,  6.03s/it]"
     ]
    },
    {
     "name": "stdout",
     "output_type": "stream",
     "text": [
      "0.08574603731653374\n"
     ]
    },
    {
     "name": "stderr",
     "output_type": "stream",
     "text": [
      "  3%|▎         | 31/1000 [02:44<1:35:13,  5.90s/it]"
     ]
    },
    {
     "name": "stdout",
     "output_type": "stream",
     "text": [
      "0.20826691792760682\n"
     ]
    },
    {
     "name": "stderr",
     "output_type": "stream",
     "text": [
      "  3%|▎         | 32/1000 [02:51<1:41:11,  6.27s/it]"
     ]
    },
    {
     "name": "stdout",
     "output_type": "stream",
     "text": [
      "0.29359822433369354\n"
     ]
    },
    {
     "name": "stderr",
     "output_type": "stream",
     "text": [
      "<ipython-input-19-24dd7331de20>:19: RuntimeWarning: divide by zero encountered in true_divide\n",
      "  g += lamb * mu[i] * sigma_i * np.sqrt(2/np.pi) * np.exp(-mu[i]**2/(2*sigma_i**2))\n",
      "<ipython-input-19-24dd7331de20>:20: RuntimeWarning: divide by zero encountered in true_divide\n",
      "  g += lamb * mu[i] * (1 - norm.cdf(mu[i]/sigma_i))\n",
      "<ipython-input-19-24dd7331de20>:21: RuntimeWarning: divide by zero encountered in log\n",
      "  g += - np.log(sigma_i)\n",
      "  3%|▎         | 33/1000 [02:57<1:42:08,  6.34s/it]"
     ]
    },
    {
     "name": "stdout",
     "output_type": "stream",
     "text": [
      "0.0005876579279427063\n"
     ]
    },
    {
     "name": "stderr",
     "output_type": "stream",
     "text": [
      "  3%|▎         | 34/1000 [03:04<1:41:38,  6.31s/it]"
     ]
    },
    {
     "name": "stdout",
     "output_type": "stream",
     "text": [
      "0.0015706711321482906\n"
     ]
    },
    {
     "name": "stderr",
     "output_type": "stream",
     "text": [
      "  4%|▎         | 35/1000 [03:10<1:41:43,  6.33s/it]"
     ]
    },
    {
     "name": "stdout",
     "output_type": "stream",
     "text": [
      "0.010150117003277184\n"
     ]
    },
    {
     "name": "stderr",
     "output_type": "stream",
     "text": [
      "  4%|▎         | 36/1000 [03:16<1:38:59,  6.16s/it]"
     ]
    },
    {
     "name": "stdout",
     "output_type": "stream",
     "text": [
      "0.025590466973717356\n"
     ]
    },
    {
     "name": "stderr",
     "output_type": "stream",
     "text": [
      "  4%|▎         | 37/1000 [03:21<1:36:32,  6.02s/it]"
     ]
    },
    {
     "name": "stdout",
     "output_type": "stream",
     "text": [
      "0.05867972787004116\n"
     ]
    },
    {
     "name": "stderr",
     "output_type": "stream",
     "text": [
      "  4%|▍         | 38/1000 [03:28<1:38:16,  6.13s/it]"
     ]
    },
    {
     "name": "stdout",
     "output_type": "stream",
     "text": [
      "0.14557172750314465\n"
     ]
    },
    {
     "name": "stderr",
     "output_type": "stream",
     "text": [
      "  4%|▍         | 39/1000 [03:34<1:37:16,  6.07s/it]"
     ]
    },
    {
     "name": "stdout",
     "output_type": "stream",
     "text": [
      "0.3710232676870468\n"
     ]
    },
    {
     "name": "stderr",
     "output_type": "stream",
     "text": [
      "<ipython-input-19-24dd7331de20>:19: RuntimeWarning: divide by zero encountered in true_divide\n",
      "  g += lamb * mu[i] * sigma_i * np.sqrt(2/np.pi) * np.exp(-mu[i]**2/(2*sigma_i**2))\n",
      "<ipython-input-19-24dd7331de20>:20: RuntimeWarning: divide by zero encountered in true_divide\n",
      "  g += lamb * mu[i] * (1 - norm.cdf(mu[i]/sigma_i))\n",
      "<ipython-input-19-24dd7331de20>:21: RuntimeWarning: divide by zero encountered in log\n",
      "  g += - np.log(sigma_i)\n",
      "  4%|▍         | 40/1000 [03:39<1:32:57,  5.81s/it]"
     ]
    },
    {
     "name": "stdout",
     "output_type": "stream",
     "text": [
      "0.06321554888309755\n"
     ]
    },
    {
     "name": "stderr",
     "output_type": "stream",
     "text": [
      "  4%|▍         | 41/1000 [03:44<1:30:32,  5.66s/it]"
     ]
    },
    {
     "name": "stdout",
     "output_type": "stream",
     "text": [
      "0.1779805408895323\n"
     ]
    },
    {
     "name": "stderr",
     "output_type": "stream",
     "text": [
      "  4%|▍         | 42/1000 [03:49<1:28:02,  5.51s/it]"
     ]
    },
    {
     "name": "stdout",
     "output_type": "stream",
     "text": [
      "0.41756985439047384\n"
     ]
    },
    {
     "name": "stderr",
     "output_type": "stream",
     "text": [
      "  4%|▍         | 43/1000 [03:55<1:26:20,  5.41s/it]"
     ]
    },
    {
     "name": "stdout",
     "output_type": "stream",
     "text": [
      "0.00013394482750565557\n"
     ]
    },
    {
     "name": "stderr",
     "output_type": "stream",
     "text": [
      "  4%|▍         | 44/1000 [04:00<1:28:29,  5.55s/it]"
     ]
    },
    {
     "name": "stdout",
     "output_type": "stream",
     "text": [
      "0.0002306176862396309\n"
     ]
    },
    {
     "name": "stderr",
     "output_type": "stream",
     "text": [
      "  4%|▍         | 45/1000 [04:06<1:29:34,  5.63s/it]"
     ]
    },
    {
     "name": "stdout",
     "output_type": "stream",
     "text": [
      "7.119473306484419e-05\n"
     ]
    },
    {
     "name": "stderr",
     "output_type": "stream",
     "text": [
      "  5%|▍         | 46/1000 [04:11<1:26:05,  5.41s/it]"
     ]
    },
    {
     "name": "stdout",
     "output_type": "stream",
     "text": [
      "3.225310881347851e-05\n"
     ]
    },
    {
     "name": "stderr",
     "output_type": "stream",
     "text": [
      "  5%|▍         | 47/1000 [04:17<1:25:36,  5.39s/it]"
     ]
    },
    {
     "name": "stdout",
     "output_type": "stream",
     "text": [
      "1.8836530044166917e-05\n"
     ]
    },
    {
     "name": "stderr",
     "output_type": "stream",
     "text": [
      "  5%|▍         | 48/1000 [04:21<1:22:10,  5.18s/it]"
     ]
    },
    {
     "name": "stdout",
     "output_type": "stream",
     "text": [
      "1.0393247140976988e-05\n"
     ]
    },
    {
     "name": "stderr",
     "output_type": "stream",
     "text": [
      "  5%|▍         | 48/1000 [04:27<1:28:19,  5.57s/it]"
     ]
    },
    {
     "name": "stdout",
     "output_type": "stream",
     "text": [
      "5.8650242976748465e-06\n"
     ]
    },
    {
     "name": "stderr",
     "output_type": "stream",
     "text": [
      "\n"
     ]
    }
   ],
   "source": [
    "n, p, s = 100, 200, 20\n",
    "\n",
    "theta = 10*np.ones(p)\n",
    "theta[:s] = 0\n",
    "X = np.random.normal(0, 1, size=(n, p))\n",
    "Y = X @ theta\n",
    "mu = mu_0(X, Y)\n",
    "sigma = 10*np.random.random(p)\n",
    "gamma = np.random.random(p)\n",
    "mu, sigma, gamma = variational_bayes(X, Y, sigma, gamma, mu, a0=1, b0=p, lamb=1, eps=1e-5, max_it=1000)"
   ]
  },
  {
   "cell_type": "code",
   "execution_count": 22,
   "metadata": {},
   "outputs": [
    {
     "data": {
      "text/plain": [
       "(array([False,  True]), array([ 20, 180]))"
      ]
     },
     "execution_count": 22,
     "metadata": {},
     "output_type": "execute_result"
    }
   ],
   "source": [
    "np.unique(gamma == 1, return_counts=True)"
   ]
  },
  {
   "cell_type": "code",
   "execution_count": 25,
   "metadata": {},
   "outputs": [],
   "source": [
    "theta = gamma * np.random.normal(mu, sigma)"
   ]
  },
  {
   "cell_type": "code",
   "execution_count": 31,
   "metadata": {},
   "outputs": [
    {
     "data": {
      "text/plain": [
       "array([ 142.79439414,   74.7456955 ,   91.51712976,  244.39949731,\n",
       "       -162.30024156,  -54.54658436,  -21.93495754,  -99.01473075,\n",
       "        238.943847  ,  120.06397042])"
      ]
     },
     "execution_count": 31,
     "metadata": {},
     "output_type": "execute_result"
    }
   ],
   "source": [
    "(X @ theta)[:10]"
   ]
  },
  {
   "cell_type": "code",
   "execution_count": 32,
   "metadata": {},
   "outputs": [
    {
     "data": {
      "text/plain": [
       "array([ 142.84459278,   76.49698088,   91.57275278,  243.28727912,\n",
       "       -163.16451502,  -52.60007252,  -22.5311845 ,  -97.93486912,\n",
       "        239.14541256,  119.37570615])"
      ]
     },
     "execution_count": 32,
     "metadata": {},
     "output_type": "execute_result"
    }
   ],
   "source": [
    "Y[:10]"
   ]
  },
  {
   "cell_type": "code",
   "execution_count": null,
   "metadata": {},
   "outputs": [],
   "source": []
  }
 ],
 "metadata": {
  "interpreter": {
   "hash": "87d7137ddc8e186347f274a4bad6dd60a4479f1838b6440c054172416f41bbfb"
  },
  "kernelspec": {
   "display_name": "Python 3.8.3 64-bit ('base': conda)",
   "name": "python3"
  },
  "language_info": {
   "codemirror_mode": {
    "name": "ipython",
    "version": 3
   },
   "file_extension": ".py",
   "mimetype": "text/x-python",
   "name": "python",
   "nbconvert_exporter": "python",
   "pygments_lexer": "ipython3",
   "version": "3.8.3"
  },
  "orig_nbformat": 4
 },
 "nbformat": 4,
 "nbformat_minor": 2
}
