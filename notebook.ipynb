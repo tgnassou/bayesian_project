{
 "cells": [
  {
   "cell_type": "code",
   "execution_count": 1,
   "metadata": {},
   "outputs": [
    {
     "data": {
      "text/plain": [
       "<module 'main' from 'c:\\\\Users\\\\user\\\\Documents\\\\codes_MVA\\\\Bayesian ML github\\\\bayesian_project\\\\main.py'>"
      ]
     },
     "execution_count": 1,
     "metadata": {},
     "output_type": "execute_result"
    }
   ],
   "source": [
    "import main as vb\n",
    "import numpy as np\n",
    "import importlib\n",
    "import matplotlib.pyplot as plt\n",
    "importlib.reload(vb)"
   ]
  },
  {
   "cell_type": "markdown",
   "metadata": {},
   "source": [
    "# Data generation"
   ]
  },
  {
   "cell_type": "code",
   "execution_count": 2,
   "metadata": {},
   "outputs": [],
   "source": [
    "n, p, s = 100, 200, 60\n",
    "\n",
    "theta_generative = 10*np.ones(p)\n",
    "theta_generative[s:] = 0\n",
    "X = np.random.normal(0, 1, size=(n, p))\n",
    "Y = X @ theta_generative\n"
   ]
  },
  {
   "cell_type": "code",
   "execution_count": 3,
   "metadata": {},
   "outputs": [
    {
     "data": {
      "text/plain": [
       "array([10., 10., 10., 10., 10., 10., 10., 10., 10., 10., 10., 10., 10.,\n",
       "       10., 10., 10., 10., 10., 10., 10., 10., 10., 10., 10., 10., 10.,\n",
       "       10., 10., 10., 10., 10., 10., 10., 10., 10., 10., 10., 10., 10.,\n",
       "       10., 10., 10., 10., 10., 10., 10., 10., 10., 10., 10., 10., 10.,\n",
       "       10., 10., 10., 10., 10., 10., 10., 10.,  0.,  0.,  0.,  0.,  0.,\n",
       "        0.,  0.,  0.,  0.,  0.,  0.,  0.,  0.,  0.,  0.,  0.,  0.,  0.,\n",
       "        0.,  0.,  0.,  0.,  0.,  0.,  0.,  0.,  0.,  0.,  0.,  0.,  0.,\n",
       "        0.,  0.,  0.,  0.,  0.,  0.,  0.,  0.,  0.,  0.,  0.,  0.,  0.,\n",
       "        0.,  0.,  0.,  0.,  0.,  0.,  0.,  0.,  0.,  0.,  0.,  0.,  0.,\n",
       "        0.,  0.,  0.,  0.,  0.,  0.,  0.,  0.,  0.,  0.,  0.,  0.,  0.,\n",
       "        0.,  0.,  0.,  0.,  0.,  0.,  0.,  0.,  0.,  0.,  0.,  0.,  0.,\n",
       "        0.,  0.,  0.,  0.,  0.,  0.,  0.,  0.,  0.,  0.,  0.,  0.,  0.,\n",
       "        0.,  0.,  0.,  0.,  0.,  0.,  0.,  0.,  0.,  0.,  0.,  0.,  0.,\n",
       "        0.,  0.,  0.,  0.,  0.,  0.,  0.,  0.,  0.,  0.,  0.,  0.,  0.,\n",
       "        0.,  0.,  0.,  0.,  0.,  0.,  0.,  0.,  0.,  0.,  0.,  0.,  0.,\n",
       "        0.,  0.,  0.,  0.,  0.])"
      ]
     },
     "execution_count": 3,
     "metadata": {},
     "output_type": "execute_result"
    }
   ],
   "source": [
    "theta_generative"
   ]
  },
  {
   "cell_type": "markdown",
   "metadata": {},
   "source": [
    "# Laplace prior Slabs"
   ]
  },
  {
   "cell_type": "code",
   "execution_count": 18,
   "metadata": {},
   "outputs": [
    {
     "name": "stderr",
     "output_type": "stream",
     "text": [
      "  0%|          | 0/500 [00:00<?, ?it/s]c:\\Users\\user\\Documents\\codes_MVA\\Bayesian ML github\\bayesian_project\\main.py:21: RuntimeWarning: invalid value encountered in log\n",
      "  g += - np.log(sigma_i)\n",
      "c:\\Users\\user\\Documents\\codes_MVA\\Bayesian ML github\\bayesian_project\\main.py:21: RuntimeWarning: invalid value encountered in log\n",
      "  g += - np.log(sigma_i)\n",
      "c:\\Users\\user\\Documents\\codes_MVA\\Bayesian ML github\\bayesian_project\\main.py:19: RuntimeWarning: divide by zero encountered in true_divide\n",
      "  g += lamb * mu[i] * sigma_i * np.sqrt(2/np.pi) * np.exp(-mu[i]**2/(2*sigma_i**2))\n",
      "c:\\Users\\user\\Documents\\codes_MVA\\Bayesian ML github\\bayesian_project\\main.py:20: RuntimeWarning: divide by zero encountered in true_divide\n",
      "  g += lamb * mu[i] * (1 - norm.cdf(mu[i]/sigma_i))\n",
      "c:\\Users\\user\\Documents\\codes_MVA\\Bayesian ML github\\bayesian_project\\main.py:21: RuntimeWarning: divide by zero encountered in log\n",
      "  g += - np.log(sigma_i)\n",
      "c:\\Users\\user\\Documents\\codes_MVA\\Bayesian ML github\\bayesian_project\\main.py:21: RuntimeWarning: invalid value encountered in log\n",
      "  g += - np.log(sigma_i)\n",
      "c:\\Users\\user\\Documents\\codes_MVA\\Bayesian ML github\\bayesian_project\\main.py:21: RuntimeWarning: invalid value encountered in log\n",
      "  g += - np.log(sigma_i)\n",
      "c:\\Users\\user\\Documents\\codes_MVA\\Bayesian ML github\\bayesian_project\\main.py:21: RuntimeWarning: invalid value encountered in log\n",
      "  g += - np.log(sigma_i)\n",
      "c:\\Users\\user\\Documents\\codes_MVA\\Bayesian ML github\\bayesian_project\\main.py:19: RuntimeWarning: divide by zero encountered in true_divide\n",
      "  g += lamb * mu[i] * sigma_i * np.sqrt(2/np.pi) * np.exp(-mu[i]**2/(2*sigma_i**2))\n",
      "c:\\Users\\user\\Documents\\codes_MVA\\Bayesian ML github\\bayesian_project\\main.py:20: RuntimeWarning: divide by zero encountered in true_divide\n",
      "  g += lamb * mu[i] * (1 - norm.cdf(mu[i]/sigma_i))\n",
      "c:\\Users\\user\\Documents\\codes_MVA\\Bayesian ML github\\bayesian_project\\main.py:21: RuntimeWarning: divide by zero encountered in log\n",
      "  g += - np.log(sigma_i)\n",
      "c:\\Users\\user\\Documents\\codes_MVA\\Bayesian ML github\\bayesian_project\\main.py:21: RuntimeWarning: invalid value encountered in log\n",
      "  g += - np.log(sigma_i)\n",
      "c:\\Users\\user\\Documents\\codes_MVA\\Bayesian ML github\\bayesian_project\\main.py:21: RuntimeWarning: invalid value encountered in log\n",
      "  g += - np.log(sigma_i)\n",
      "c:\\Users\\user\\Documents\\codes_MVA\\Bayesian ML github\\bayesian_project\\main.py:21: RuntimeWarning: invalid value encountered in log\n",
      "  g += - np.log(sigma_i)\n",
      "c:\\Users\\user\\Documents\\codes_MVA\\Bayesian ML github\\bayesian_project\\main.py:21: RuntimeWarning: invalid value encountered in log\n",
      "  g += - np.log(sigma_i)\n",
      "c:\\Users\\user\\Documents\\codes_MVA\\Bayesian ML github\\bayesian_project\\main.py:21: RuntimeWarning: invalid value encountered in log\n",
      "  g += - np.log(sigma_i)\n",
      "c:\\Users\\user\\Documents\\codes_MVA\\Bayesian ML github\\bayesian_project\\main.py:19: RuntimeWarning: divide by zero encountered in true_divide\n",
      "  g += lamb * mu[i] * sigma_i * np.sqrt(2/np.pi) * np.exp(-mu[i]**2/(2*sigma_i**2))\n",
      "c:\\Users\\user\\Documents\\codes_MVA\\Bayesian ML github\\bayesian_project\\main.py:20: RuntimeWarning: divide by zero encountered in true_divide\n",
      "  g += lamb * mu[i] * (1 - norm.cdf(mu[i]/sigma_i))\n",
      "c:\\Users\\user\\Documents\\codes_MVA\\Bayesian ML github\\bayesian_project\\main.py:21: RuntimeWarning: divide by zero encountered in log\n",
      "  g += - np.log(sigma_i)\n",
      "c:\\Users\\user\\Documents\\codes_MVA\\Bayesian ML github\\bayesian_project\\main.py:21: RuntimeWarning: invalid value encountered in log\n",
      "  g += - np.log(sigma_i)\n",
      "c:\\Users\\user\\Documents\\codes_MVA\\Bayesian ML github\\bayesian_project\\main.py:21: RuntimeWarning: invalid value encountered in log\n",
      "  g += - np.log(sigma_i)\n",
      "c:\\Users\\user\\Documents\\codes_MVA\\Bayesian ML github\\bayesian_project\\main.py:21: RuntimeWarning: invalid value encountered in log\n",
      "  g += - np.log(sigma_i)\n",
      "c:\\Users\\user\\Documents\\codes_MVA\\Bayesian ML github\\bayesian_project\\main.py:19: RuntimeWarning: divide by zero encountered in true_divide\n",
      "  g += lamb * mu[i] * sigma_i * np.sqrt(2/np.pi) * np.exp(-mu[i]**2/(2*sigma_i**2))\n",
      "c:\\Users\\user\\Documents\\codes_MVA\\Bayesian ML github\\bayesian_project\\main.py:20: RuntimeWarning: divide by zero encountered in true_divide\n",
      "  g += lamb * mu[i] * (1 - norm.cdf(mu[i]/sigma_i))\n",
      "c:\\Users\\user\\Documents\\codes_MVA\\Bayesian ML github\\bayesian_project\\main.py:21: RuntimeWarning: divide by zero encountered in log\n",
      "  g += - np.log(sigma_i)\n",
      "c:\\Users\\user\\Documents\\codes_MVA\\Bayesian ML github\\bayesian_project\\main.py:21: RuntimeWarning: invalid value encountered in log\n",
      "  g += - np.log(sigma_i)\n",
      "c:\\Users\\user\\Documents\\codes_MVA\\Bayesian ML github\\bayesian_project\\main.py:21: RuntimeWarning: invalid value encountered in log\n",
      "  g += - np.log(sigma_i)\n",
      "c:\\Users\\user\\Documents\\codes_MVA\\Bayesian ML github\\bayesian_project\\main.py:21: RuntimeWarning: invalid value encountered in log\n",
      "  g += - np.log(sigma_i)\n",
      "c:\\Users\\user\\Documents\\codes_MVA\\Bayesian ML github\\bayesian_project\\main.py:21: RuntimeWarning: invalid value encountered in log\n",
      "  g += - np.log(sigma_i)\n",
      "c:\\Users\\user\\Documents\\codes_MVA\\Bayesian ML github\\bayesian_project\\main.py:21: RuntimeWarning: invalid value encountered in log\n",
      "  g += - np.log(sigma_i)\n",
      "c:\\Users\\user\\Documents\\codes_MVA\\Bayesian ML github\\bayesian_project\\main.py:19: RuntimeWarning: divide by zero encountered in true_divide\n",
      "  g += lamb * mu[i] * sigma_i * np.sqrt(2/np.pi) * np.exp(-mu[i]**2/(2*sigma_i**2))\n",
      "c:\\Users\\user\\Documents\\codes_MVA\\Bayesian ML github\\bayesian_project\\main.py:20: RuntimeWarning: divide by zero encountered in true_divide\n",
      "  g += lamb * mu[i] * (1 - norm.cdf(mu[i]/sigma_i))\n",
      "c:\\Users\\user\\Documents\\codes_MVA\\Bayesian ML github\\bayesian_project\\main.py:21: RuntimeWarning: divide by zero encountered in log\n",
      "  g += - np.log(sigma_i)\n",
      "c:\\Users\\user\\Documents\\codes_MVA\\Bayesian ML github\\bayesian_project\\main.py:21: RuntimeWarning: invalid value encountered in log\n",
      "  g += - np.log(sigma_i)\n",
      "c:\\Users\\user\\Documents\\codes_MVA\\Bayesian ML github\\bayesian_project\\main.py:21: RuntimeWarning: invalid value encountered in log\n",
      "  g += - np.log(sigma_i)\n",
      "c:\\Users\\user\\Documents\\codes_MVA\\Bayesian ML github\\bayesian_project\\main.py:21: RuntimeWarning: invalid value encountered in log\n",
      "  g += - np.log(sigma_i)\n",
      "c:\\Users\\user\\Documents\\codes_MVA\\Bayesian ML github\\bayesian_project\\main.py:21: RuntimeWarning: invalid value encountered in log\n",
      "  g += - np.log(sigma_i)\n",
      "c:\\Users\\user\\Documents\\codes_MVA\\Bayesian ML github\\bayesian_project\\main.py:21: RuntimeWarning: invalid value encountered in log\n",
      "  g += - np.log(sigma_i)\n",
      "c:\\Users\\user\\Documents\\codes_MVA\\Bayesian ML github\\bayesian_project\\main.py:21: RuntimeWarning: invalid value encountered in log\n",
      "  g += - np.log(sigma_i)\n",
      "c:\\Users\\user\\Documents\\codes_MVA\\Bayesian ML github\\bayesian_project\\main.py:19: RuntimeWarning: divide by zero encountered in true_divide\n",
      "  g += lamb * mu[i] * sigma_i * np.sqrt(2/np.pi) * np.exp(-mu[i]**2/(2*sigma_i**2))\n",
      "c:\\Users\\user\\Documents\\codes_MVA\\Bayesian ML github\\bayesian_project\\main.py:20: RuntimeWarning: divide by zero encountered in true_divide\n",
      "  g += lamb * mu[i] * (1 - norm.cdf(mu[i]/sigma_i))\n",
      "c:\\Users\\user\\Documents\\codes_MVA\\Bayesian ML github\\bayesian_project\\main.py:21: RuntimeWarning: divide by zero encountered in log\n",
      "  g += - np.log(sigma_i)\n",
      "c:\\Users\\user\\Documents\\codes_MVA\\Bayesian ML github\\bayesian_project\\main.py:21: RuntimeWarning: invalid value encountered in log\n",
      "  g += - np.log(sigma_i)\n",
      "c:\\Users\\user\\Documents\\codes_MVA\\Bayesian ML github\\bayesian_project\\main.py:21: RuntimeWarning: invalid value encountered in log\n",
      "  g += - np.log(sigma_i)\n",
      "c:\\Users\\user\\Documents\\codes_MVA\\Bayesian ML github\\bayesian_project\\main.py:21: RuntimeWarning: invalid value encountered in log\n",
      "  g += - np.log(sigma_i)\n",
      "  0%|          | 2/500 [00:04<19:47,  2.39s/it]"
     ]
    },
    {
     "name": "stdout",
     "output_type": "stream",
     "text": [
      "0.2364341219717147\n"
     ]
    },
    {
     "name": "stderr",
     "output_type": "stream",
     "text": [
      "c:\\Users\\user\\Documents\\codes_MVA\\Bayesian ML github\\bayesian_project\\main.py:19: RuntimeWarning: divide by zero encountered in true_divide\n",
      "  g += lamb * mu[i] * sigma_i * np.sqrt(2/np.pi) * np.exp(-mu[i]**2/(2*sigma_i**2))\n",
      "c:\\Users\\user\\Documents\\codes_MVA\\Bayesian ML github\\bayesian_project\\main.py:20: RuntimeWarning: divide by zero encountered in true_divide\n",
      "  g += lamb * mu[i] * (1 - norm.cdf(mu[i]/sigma_i))\n",
      "c:\\Users\\user\\Documents\\codes_MVA\\Bayesian ML github\\bayesian_project\\main.py:21: RuntimeWarning: divide by zero encountered in log\n",
      "  g += - np.log(sigma_i)\n",
      "c:\\Users\\user\\Documents\\codes_MVA\\Bayesian ML github\\bayesian_project\\main.py:21: RuntimeWarning: invalid value encountered in log\n",
      "  g += - np.log(sigma_i)\n",
      "c:\\Users\\user\\Documents\\codes_MVA\\Bayesian ML github\\bayesian_project\\main.py:19: RuntimeWarning: divide by zero encountered in true_divide\n",
      "  g += lamb * mu[i] * sigma_i * np.sqrt(2/np.pi) * np.exp(-mu[i]**2/(2*sigma_i**2))\n",
      "c:\\Users\\user\\Documents\\codes_MVA\\Bayesian ML github\\bayesian_project\\main.py:20: RuntimeWarning: divide by zero encountered in true_divide\n",
      "  g += lamb * mu[i] * (1 - norm.cdf(mu[i]/sigma_i))\n",
      "c:\\Users\\user\\Documents\\codes_MVA\\Bayesian ML github\\bayesian_project\\main.py:21: RuntimeWarning: divide by zero encountered in log\n",
      "  g += - np.log(sigma_i)\n",
      "  1%|          | 3/500 [00:08<23:47,  2.87s/it]"
     ]
    },
    {
     "name": "stdout",
     "output_type": "stream",
     "text": [
      "0.22525849827030006\n"
     ]
    },
    {
     "name": "stderr",
     "output_type": "stream",
     "text": [
      "c:\\Users\\user\\Documents\\codes_MVA\\Bayesian ML github\\bayesian_project\\main.py:19: RuntimeWarning: divide by zero encountered in true_divide\n",
      "  g += lamb * mu[i] * sigma_i * np.sqrt(2/np.pi) * np.exp(-mu[i]**2/(2*sigma_i**2))\n",
      "c:\\Users\\user\\Documents\\codes_MVA\\Bayesian ML github\\bayesian_project\\main.py:20: RuntimeWarning: divide by zero encountered in true_divide\n",
      "  g += lamb * mu[i] * (1 - norm.cdf(mu[i]/sigma_i))\n",
      "c:\\Users\\user\\Documents\\codes_MVA\\Bayesian ML github\\bayesian_project\\main.py:21: RuntimeWarning: divide by zero encountered in log\n",
      "  g += - np.log(sigma_i)\n",
      "c:\\Users\\user\\Documents\\codes_MVA\\Bayesian ML github\\bayesian_project\\main.py:19: RuntimeWarning: divide by zero encountered in true_divide\n",
      "  g += lamb * mu[i] * sigma_i * np.sqrt(2/np.pi) * np.exp(-mu[i]**2/(2*sigma_i**2))\n",
      "c:\\Users\\user\\Documents\\codes_MVA\\Bayesian ML github\\bayesian_project\\main.py:20: RuntimeWarning: divide by zero encountered in true_divide\n",
      "  g += lamb * mu[i] * (1 - norm.cdf(mu[i]/sigma_i))\n",
      "c:\\Users\\user\\Documents\\codes_MVA\\Bayesian ML github\\bayesian_project\\main.py:21: RuntimeWarning: divide by zero encountered in log\n",
      "  g += - np.log(sigma_i)\n",
      "  1%|          | 4/500 [00:11<24:20,  2.94s/it]"
     ]
    },
    {
     "name": "stdout",
     "output_type": "stream",
     "text": [
      "0.6057565401927696\n"
     ]
    },
    {
     "name": "stderr",
     "output_type": "stream",
     "text": [
      "c:\\Users\\user\\Documents\\codes_MVA\\Bayesian ML github\\bayesian_project\\main.py:19: RuntimeWarning: divide by zero encountered in true_divide\n",
      "  g += lamb * mu[i] * sigma_i * np.sqrt(2/np.pi) * np.exp(-mu[i]**2/(2*sigma_i**2))\n",
      "c:\\Users\\user\\Documents\\codes_MVA\\Bayesian ML github\\bayesian_project\\main.py:20: RuntimeWarning: divide by zero encountered in true_divide\n",
      "  g += lamb * mu[i] * (1 - norm.cdf(mu[i]/sigma_i))\n",
      "c:\\Users\\user\\Documents\\codes_MVA\\Bayesian ML github\\bayesian_project\\main.py:21: RuntimeWarning: divide by zero encountered in log\n",
      "  g += - np.log(sigma_i)\n",
      "c:\\Users\\user\\Documents\\codes_MVA\\Bayesian ML github\\bayesian_project\\main.py:21: RuntimeWarning: invalid value encountered in log\n",
      "  g += - np.log(sigma_i)\n",
      "c:\\Users\\user\\Documents\\codes_MVA\\Bayesian ML github\\bayesian_project\\main.py:19: RuntimeWarning: divide by zero encountered in true_divide\n",
      "  g += lamb * mu[i] * sigma_i * np.sqrt(2/np.pi) * np.exp(-mu[i]**2/(2*sigma_i**2))\n",
      "c:\\Users\\user\\Documents\\codes_MVA\\Bayesian ML github\\bayesian_project\\main.py:20: RuntimeWarning: divide by zero encountered in true_divide\n",
      "  g += lamb * mu[i] * (1 - norm.cdf(mu[i]/sigma_i))\n",
      "c:\\Users\\user\\Documents\\codes_MVA\\Bayesian ML github\\bayesian_project\\main.py:21: RuntimeWarning: divide by zero encountered in log\n",
      "  g += - np.log(sigma_i)\n",
      "  1%|          | 5/500 [00:13<22:58,  2.78s/it]"
     ]
    },
    {
     "name": "stdout",
     "output_type": "stream",
     "text": [
      "0.6923184893391889\n"
     ]
    },
    {
     "name": "stderr",
     "output_type": "stream",
     "text": [
      "c:\\Users\\user\\Documents\\codes_MVA\\Bayesian ML github\\bayesian_project\\main.py:19: RuntimeWarning: divide by zero encountered in true_divide\n",
      "  g += lamb * mu[i] * sigma_i * np.sqrt(2/np.pi) * np.exp(-mu[i]**2/(2*sigma_i**2))\n",
      "c:\\Users\\user\\Documents\\codes_MVA\\Bayesian ML github\\bayesian_project\\main.py:20: RuntimeWarning: divide by zero encountered in true_divide\n",
      "  g += lamb * mu[i] * (1 - norm.cdf(mu[i]/sigma_i))\n",
      "c:\\Users\\user\\Documents\\codes_MVA\\Bayesian ML github\\bayesian_project\\main.py:21: RuntimeWarning: divide by zero encountered in log\n",
      "  g += - np.log(sigma_i)\n",
      "c:\\Users\\user\\Documents\\codes_MVA\\Bayesian ML github\\bayesian_project\\main.py:19: RuntimeWarning: divide by zero encountered in true_divide\n",
      "  g += lamb * mu[i] * sigma_i * np.sqrt(2/np.pi) * np.exp(-mu[i]**2/(2*sigma_i**2))\n",
      "c:\\Users\\user\\Documents\\codes_MVA\\Bayesian ML github\\bayesian_project\\main.py:20: RuntimeWarning: divide by zero encountered in true_divide\n",
      "  g += lamb * mu[i] * (1 - norm.cdf(mu[i]/sigma_i))\n",
      "c:\\Users\\user\\Documents\\codes_MVA\\Bayesian ML github\\bayesian_project\\main.py:21: RuntimeWarning: divide by zero encountered in log\n",
      "  g += - np.log(sigma_i)\n",
      "c:\\Users\\user\\Documents\\codes_MVA\\Bayesian ML github\\bayesian_project\\main.py:21: RuntimeWarning: invalid value encountered in log\n",
      "  g += - np.log(sigma_i)\n",
      "c:\\Users\\user\\Documents\\codes_MVA\\Bayesian ML github\\bayesian_project\\main.py:19: RuntimeWarning: divide by zero encountered in true_divide\n",
      "  g += lamb * mu[i] * sigma_i * np.sqrt(2/np.pi) * np.exp(-mu[i]**2/(2*sigma_i**2))\n",
      "c:\\Users\\user\\Documents\\codes_MVA\\Bayesian ML github\\bayesian_project\\main.py:20: RuntimeWarning: divide by zero encountered in true_divide\n",
      "  g += lamb * mu[i] * (1 - norm.cdf(mu[i]/sigma_i))\n",
      "c:\\Users\\user\\Documents\\codes_MVA\\Bayesian ML github\\bayesian_project\\main.py:21: RuntimeWarning: divide by zero encountered in log\n",
      "  g += - np.log(sigma_i)\n",
      "  1%|          | 6/500 [00:16<23:25,  2.85s/it]"
     ]
    },
    {
     "name": "stdout",
     "output_type": "stream",
     "text": [
      "0.5239086390067992\n"
     ]
    },
    {
     "name": "stderr",
     "output_type": "stream",
     "text": [
      "c:\\Users\\user\\Documents\\codes_MVA\\Bayesian ML github\\bayesian_project\\main.py:21: RuntimeWarning: invalid value encountered in log\n",
      "  g += - np.log(sigma_i)\n",
      "  1%|▏         | 7/500 [00:19<22:44,  2.77s/it]"
     ]
    },
    {
     "name": "stdout",
     "output_type": "stream",
     "text": [
      "0.1596299129803028\n"
     ]
    },
    {
     "name": "stderr",
     "output_type": "stream",
     "text": [
      "c:\\Users\\user\\Documents\\codes_MVA\\Bayesian ML github\\bayesian_project\\main.py:19: RuntimeWarning: divide by zero encountered in true_divide\n",
      "  g += lamb * mu[i] * sigma_i * np.sqrt(2/np.pi) * np.exp(-mu[i]**2/(2*sigma_i**2))\n",
      "c:\\Users\\user\\Documents\\codes_MVA\\Bayesian ML github\\bayesian_project\\main.py:20: RuntimeWarning: divide by zero encountered in true_divide\n",
      "  g += lamb * mu[i] * (1 - norm.cdf(mu[i]/sigma_i))\n",
      "c:\\Users\\user\\Documents\\codes_MVA\\Bayesian ML github\\bayesian_project\\main.py:21: RuntimeWarning: divide by zero encountered in log\n",
      "  g += - np.log(sigma_i)\n",
      "c:\\Users\\user\\Documents\\codes_MVA\\Bayesian ML github\\bayesian_project\\main.py:19: RuntimeWarning: divide by zero encountered in true_divide\n",
      "  g += lamb * mu[i] * sigma_i * np.sqrt(2/np.pi) * np.exp(-mu[i]**2/(2*sigma_i**2))\n",
      "c:\\Users\\user\\Documents\\codes_MVA\\Bayesian ML github\\bayesian_project\\main.py:20: RuntimeWarning: divide by zero encountered in true_divide\n",
      "  g += lamb * mu[i] * (1 - norm.cdf(mu[i]/sigma_i))\n",
      "c:\\Users\\user\\Documents\\codes_MVA\\Bayesian ML github\\bayesian_project\\main.py:21: RuntimeWarning: divide by zero encountered in log\n",
      "  g += - np.log(sigma_i)\n",
      "  2%|▏         | 8/500 [00:22<22:15,  2.71s/it]"
     ]
    },
    {
     "name": "stdout",
     "output_type": "stream",
     "text": [
      "0.4014763805372372\n"
     ]
    },
    {
     "name": "stderr",
     "output_type": "stream",
     "text": [
      "c:\\Users\\user\\Documents\\codes_MVA\\Bayesian ML github\\bayesian_project\\main.py:19: RuntimeWarning: divide by zero encountered in true_divide\n",
      "  g += lamb * mu[i] * sigma_i * np.sqrt(2/np.pi) * np.exp(-mu[i]**2/(2*sigma_i**2))\n",
      "c:\\Users\\user\\Documents\\codes_MVA\\Bayesian ML github\\bayesian_project\\main.py:20: RuntimeWarning: divide by zero encountered in true_divide\n",
      "  g += lamb * mu[i] * (1 - norm.cdf(mu[i]/sigma_i))\n",
      "c:\\Users\\user\\Documents\\codes_MVA\\Bayesian ML github\\bayesian_project\\main.py:21: RuntimeWarning: divide by zero encountered in log\n",
      "  g += - np.log(sigma_i)\n",
      "c:\\Users\\user\\Documents\\codes_MVA\\Bayesian ML github\\bayesian_project\\main.py:19: RuntimeWarning: divide by zero encountered in true_divide\n",
      "  g += lamb * mu[i] * sigma_i * np.sqrt(2/np.pi) * np.exp(-mu[i]**2/(2*sigma_i**2))\n",
      "c:\\Users\\user\\Documents\\codes_MVA\\Bayesian ML github\\bayesian_project\\main.py:20: RuntimeWarning: divide by zero encountered in true_divide\n",
      "  g += lamb * mu[i] * (1 - norm.cdf(mu[i]/sigma_i))\n",
      "c:\\Users\\user\\Documents\\codes_MVA\\Bayesian ML github\\bayesian_project\\main.py:21: RuntimeWarning: divide by zero encountered in log\n",
      "  g += - np.log(sigma_i)\n",
      "  2%|▏         | 9/500 [00:25<23:42,  2.90s/it]"
     ]
    },
    {
     "name": "stdout",
     "output_type": "stream",
     "text": [
      "0.23729441975934576\n"
     ]
    },
    {
     "name": "stderr",
     "output_type": "stream",
     "text": [
      "c:\\Users\\user\\Documents\\codes_MVA\\Bayesian ML github\\bayesian_project\\main.py:21: RuntimeWarning: invalid value encountered in log\n",
      "  g += - np.log(sigma_i)\n",
      "  2%|▏         | 10/500 [00:29<26:01,  3.19s/it]"
     ]
    },
    {
     "name": "stdout",
     "output_type": "stream",
     "text": [
      "0.18648038976299236\n"
     ]
    },
    {
     "name": "stderr",
     "output_type": "stream",
     "text": [
      "  2%|▏         | 11/500 [00:32<26:46,  3.29s/it]"
     ]
    },
    {
     "name": "stdout",
     "output_type": "stream",
     "text": [
      "0.3496900844032773\n"
     ]
    },
    {
     "name": "stderr",
     "output_type": "stream",
     "text": [
      "c:\\Users\\user\\Documents\\codes_MVA\\Bayesian ML github\\bayesian_project\\main.py:19: RuntimeWarning: divide by zero encountered in true_divide\n",
      "  g += lamb * mu[i] * sigma_i * np.sqrt(2/np.pi) * np.exp(-mu[i]**2/(2*sigma_i**2))\n",
      "c:\\Users\\user\\Documents\\codes_MVA\\Bayesian ML github\\bayesian_project\\main.py:20: RuntimeWarning: divide by zero encountered in true_divide\n",
      "  g += lamb * mu[i] * (1 - norm.cdf(mu[i]/sigma_i))\n",
      "c:\\Users\\user\\Documents\\codes_MVA\\Bayesian ML github\\bayesian_project\\main.py:21: RuntimeWarning: divide by zero encountered in log\n",
      "  g += - np.log(sigma_i)\n",
      "  2%|▏         | 12/500 [00:36<26:49,  3.30s/it]"
     ]
    },
    {
     "name": "stdout",
     "output_type": "stream",
     "text": [
      "0.1888282793930693\n"
     ]
    },
    {
     "name": "stderr",
     "output_type": "stream",
     "text": [
      "c:\\Users\\user\\Documents\\codes_MVA\\Bayesian ML github\\bayesian_project\\main.py:19: RuntimeWarning: divide by zero encountered in true_divide\n",
      "  g += lamb * mu[i] * sigma_i * np.sqrt(2/np.pi) * np.exp(-mu[i]**2/(2*sigma_i**2))\n",
      "c:\\Users\\user\\Documents\\codes_MVA\\Bayesian ML github\\bayesian_project\\main.py:20: RuntimeWarning: divide by zero encountered in true_divide\n",
      "  g += lamb * mu[i] * (1 - norm.cdf(mu[i]/sigma_i))\n",
      "c:\\Users\\user\\Documents\\codes_MVA\\Bayesian ML github\\bayesian_project\\main.py:21: RuntimeWarning: divide by zero encountered in log\n",
      "  g += - np.log(sigma_i)\n",
      "c:\\Users\\user\\Documents\\codes_MVA\\Bayesian ML github\\bayesian_project\\main.py:19: RuntimeWarning: divide by zero encountered in true_divide\n",
      "  g += lamb * mu[i] * sigma_i * np.sqrt(2/np.pi) * np.exp(-mu[i]**2/(2*sigma_i**2))\n",
      "c:\\Users\\user\\Documents\\codes_MVA\\Bayesian ML github\\bayesian_project\\main.py:20: RuntimeWarning: divide by zero encountered in true_divide\n",
      "  g += lamb * mu[i] * (1 - norm.cdf(mu[i]/sigma_i))\n",
      "c:\\Users\\user\\Documents\\codes_MVA\\Bayesian ML github\\bayesian_project\\main.py:21: RuntimeWarning: divide by zero encountered in log\n",
      "  g += - np.log(sigma_i)\n",
      "  3%|▎         | 13/500 [00:39<27:18,  3.36s/it]"
     ]
    },
    {
     "name": "stdout",
     "output_type": "stream",
     "text": [
      "0.001041891729900588\n"
     ]
    },
    {
     "name": "stderr",
     "output_type": "stream",
     "text": [
      "  3%|▎         | 14/500 [00:42<25:43,  3.18s/it]"
     ]
    },
    {
     "name": "stdout",
     "output_type": "stream",
     "text": [
      "0.002923898008320389\n"
     ]
    },
    {
     "name": "stderr",
     "output_type": "stream",
     "text": [
      "  3%|▎         | 15/500 [00:45<26:32,  3.28s/it]"
     ]
    },
    {
     "name": "stdout",
     "output_type": "stream",
     "text": [
      "0.0035457115001209377\n"
     ]
    },
    {
     "name": "stderr",
     "output_type": "stream",
     "text": [
      "  3%|▎         | 16/500 [00:49<27:00,  3.35s/it]"
     ]
    },
    {
     "name": "stdout",
     "output_type": "stream",
     "text": [
      "0.004015504338822636\n"
     ]
    },
    {
     "name": "stderr",
     "output_type": "stream",
     "text": [
      "  3%|▎         | 17/500 [00:52<26:13,  3.26s/it]"
     ]
    },
    {
     "name": "stdout",
     "output_type": "stream",
     "text": [
      "0.004974627663518387\n"
     ]
    },
    {
     "name": "stderr",
     "output_type": "stream",
     "text": [
      "  4%|▎         | 18/500 [00:55<26:51,  3.34s/it]"
     ]
    },
    {
     "name": "stdout",
     "output_type": "stream",
     "text": [
      "0.006656373176990301\n"
     ]
    },
    {
     "name": "stderr",
     "output_type": "stream",
     "text": [
      "  4%|▍         | 19/500 [00:58<26:09,  3.26s/it]"
     ]
    },
    {
     "name": "stdout",
     "output_type": "stream",
     "text": [
      "0.009289209183738434\n"
     ]
    },
    {
     "name": "stderr",
     "output_type": "stream",
     "text": [
      "  4%|▍         | 20/500 [01:01<23:53,  2.99s/it]"
     ]
    },
    {
     "name": "stdout",
     "output_type": "stream",
     "text": [
      "0.013499106029600666\n"
     ]
    },
    {
     "name": "stderr",
     "output_type": "stream",
     "text": [
      "  4%|▍         | 21/500 [01:04<25:01,  3.14s/it]"
     ]
    },
    {
     "name": "stdout",
     "output_type": "stream",
     "text": [
      "0.02068704916452989\n"
     ]
    },
    {
     "name": "stderr",
     "output_type": "stream",
     "text": [
      "  4%|▍         | 22/500 [01:08<25:44,  3.23s/it]"
     ]
    },
    {
     "name": "stdout",
     "output_type": "stream",
     "text": [
      "0.034269952166804035\n"
     ]
    },
    {
     "name": "stderr",
     "output_type": "stream",
     "text": [
      "  5%|▍         | 23/500 [01:11<25:08,  3.16s/it]"
     ]
    },
    {
     "name": "stdout",
     "output_type": "stream",
     "text": [
      "0.06402688221645222\n"
     ]
    },
    {
     "name": "stderr",
     "output_type": "stream",
     "text": [
      "  5%|▍         | 24/500 [01:13<23:30,  2.96s/it]"
     ]
    },
    {
     "name": "stdout",
     "output_type": "stream",
     "text": [
      "0.14335102576939837\n"
     ]
    },
    {
     "name": "stderr",
     "output_type": "stream",
     "text": [
      "  5%|▌         | 25/500 [01:17<24:27,  3.09s/it]"
     ]
    },
    {
     "name": "stdout",
     "output_type": "stream",
     "text": [
      "0.33294233361021763\n"
     ]
    },
    {
     "name": "stderr",
     "output_type": "stream",
     "text": [
      "  5%|▌         | 26/500 [01:19<23:14,  2.94s/it]"
     ]
    },
    {
     "name": "stdout",
     "output_type": "stream",
     "text": [
      "0.20382162679631494\n"
     ]
    },
    {
     "name": "stderr",
     "output_type": "stream",
     "text": [
      "c:\\Users\\user\\Documents\\codes_MVA\\Bayesian ML github\\bayesian_project\\main.py:19: RuntimeWarning: divide by zero encountered in true_divide\n",
      "  g += lamb * mu[i] * sigma_i * np.sqrt(2/np.pi) * np.exp(-mu[i]**2/(2*sigma_i**2))\n",
      "c:\\Users\\user\\Documents\\codes_MVA\\Bayesian ML github\\bayesian_project\\main.py:20: RuntimeWarning: divide by zero encountered in true_divide\n",
      "  g += lamb * mu[i] * (1 - norm.cdf(mu[i]/sigma_i))\n",
      "c:\\Users\\user\\Documents\\codes_MVA\\Bayesian ML github\\bayesian_project\\main.py:21: RuntimeWarning: divide by zero encountered in log\n",
      "  g += - np.log(sigma_i)\n",
      "  5%|▌         | 27/500 [01:22<22:18,  2.83s/it]"
     ]
    },
    {
     "name": "stdout",
     "output_type": "stream",
     "text": [
      "0.33216753292337997\n"
     ]
    },
    {
     "name": "stderr",
     "output_type": "stream",
     "text": [
      "  6%|▌         | 28/500 [01:25<22:07,  2.81s/it]"
     ]
    },
    {
     "name": "stdout",
     "output_type": "stream",
     "text": [
      "0.004679342179214301\n"
     ]
    },
    {
     "name": "stderr",
     "output_type": "stream",
     "text": [
      "  6%|▌         | 29/500 [01:28<23:44,  3.02s/it]"
     ]
    },
    {
     "name": "stdout",
     "output_type": "stream",
     "text": [
      "0.013599174086206927\n"
     ]
    },
    {
     "name": "stderr",
     "output_type": "stream",
     "text": [
      "  6%|▌         | 30/500 [01:31<23:14,  2.97s/it]"
     ]
    },
    {
     "name": "stdout",
     "output_type": "stream",
     "text": [
      "0.022211452077507604\n"
     ]
    },
    {
     "name": "stderr",
     "output_type": "stream",
     "text": [
      "  6%|▌         | 31/500 [01:35<25:28,  3.26s/it]"
     ]
    },
    {
     "name": "stdout",
     "output_type": "stream",
     "text": [
      "0.04220371992587481\n"
     ]
    },
    {
     "name": "stderr",
     "output_type": "stream",
     "text": [
      "  6%|▋         | 32/500 [01:38<24:54,  3.19s/it]"
     ]
    },
    {
     "name": "stdout",
     "output_type": "stream",
     "text": [
      "0.09381915699689751\n"
     ]
    },
    {
     "name": "stderr",
     "output_type": "stream",
     "text": [
      "  7%|▋         | 33/500 [01:40<23:12,  2.98s/it]"
     ]
    },
    {
     "name": "stdout",
     "output_type": "stream",
     "text": [
      "0.24617208294578427\n"
     ]
    },
    {
     "name": "stderr",
     "output_type": "stream",
     "text": [
      "  7%|▋         | 34/500 [01:43<22:27,  2.89s/it]"
     ]
    },
    {
     "name": "stdout",
     "output_type": "stream",
     "text": [
      "0.1521794228210897\n"
     ]
    },
    {
     "name": "stderr",
     "output_type": "stream",
     "text": [
      "  7%|▋         | 35/500 [01:46<22:30,  2.90s/it]"
     ]
    },
    {
     "name": "stdout",
     "output_type": "stream",
     "text": [
      "0.18303831708555224\n"
     ]
    },
    {
     "name": "stderr",
     "output_type": "stream",
     "text": [
      "  7%|▋         | 36/500 [01:49<21:49,  2.82s/it]"
     ]
    },
    {
     "name": "stdout",
     "output_type": "stream",
     "text": [
      "0.2921668983628858\n"
     ]
    },
    {
     "name": "stderr",
     "output_type": "stream",
     "text": [
      "c:\\Users\\user\\Documents\\codes_MVA\\Bayesian ML github\\bayesian_project\\main.py:19: RuntimeWarning: divide by zero encountered in true_divide\n",
      "  g += lamb * mu[i] * sigma_i * np.sqrt(2/np.pi) * np.exp(-mu[i]**2/(2*sigma_i**2))\n",
      "c:\\Users\\user\\Documents\\codes_MVA\\Bayesian ML github\\bayesian_project\\main.py:20: RuntimeWarning: divide by zero encountered in true_divide\n",
      "  g += lamb * mu[i] * (1 - norm.cdf(mu[i]/sigma_i))\n",
      "c:\\Users\\user\\Documents\\codes_MVA\\Bayesian ML github\\bayesian_project\\main.py:21: RuntimeWarning: divide by zero encountered in log\n",
      "  g += - np.log(sigma_i)\n",
      "  7%|▋         | 37/500 [01:52<22:10,  2.87s/it]"
     ]
    },
    {
     "name": "stdout",
     "output_type": "stream",
     "text": [
      "0.005179481080834592\n"
     ]
    },
    {
     "name": "stderr",
     "output_type": "stream",
     "text": [
      "  8%|▊         | 38/500 [01:54<21:16,  2.76s/it]"
     ]
    },
    {
     "name": "stdout",
     "output_type": "stream",
     "text": [
      "0.003957853936460984\n"
     ]
    },
    {
     "name": "stderr",
     "output_type": "stream",
     "text": [
      "  8%|▊         | 39/500 [01:57<21:04,  2.74s/it]"
     ]
    },
    {
     "name": "stdout",
     "output_type": "stream",
     "text": [
      "0.009673545135046625\n"
     ]
    },
    {
     "name": "stderr",
     "output_type": "stream",
     "text": [
      "  8%|▊         | 40/500 [01:59<19:57,  2.60s/it]"
     ]
    },
    {
     "name": "stdout",
     "output_type": "stream",
     "text": [
      "0.021780014868251762\n"
     ]
    },
    {
     "name": "stderr",
     "output_type": "stream",
     "text": [
      "  8%|▊         | 41/500 [02:02<20:38,  2.70s/it]"
     ]
    },
    {
     "name": "stdout",
     "output_type": "stream",
     "text": [
      "0.03768091542929408\n"
     ]
    },
    {
     "name": "stderr",
     "output_type": "stream",
     "text": [
      "  8%|▊         | 42/500 [02:04<19:37,  2.57s/it]"
     ]
    },
    {
     "name": "stdout",
     "output_type": "stream",
     "text": [
      "0.07563682991696483\n"
     ]
    },
    {
     "name": "stderr",
     "output_type": "stream",
     "text": [
      "  9%|▊         | 43/500 [02:07<19:18,  2.53s/it]"
     ]
    },
    {
     "name": "stdout",
     "output_type": "stream",
     "text": [
      "0.18955566175073757\n"
     ]
    },
    {
     "name": "stderr",
     "output_type": "stream",
     "text": [
      "  9%|▉         | 44/500 [02:09<19:13,  2.53s/it]"
     ]
    },
    {
     "name": "stdout",
     "output_type": "stream",
     "text": [
      "0.3141260781761344\n"
     ]
    },
    {
     "name": "stderr",
     "output_type": "stream",
     "text": [
      "  9%|▉         | 45/500 [02:12<20:41,  2.73s/it]"
     ]
    },
    {
     "name": "stdout",
     "output_type": "stream",
     "text": [
      "0.34602540214688016\n"
     ]
    },
    {
     "name": "stderr",
     "output_type": "stream",
     "text": [
      "c:\\Users\\user\\Documents\\codes_MVA\\Bayesian ML github\\bayesian_project\\main.py:21: RuntimeWarning: invalid value encountered in log\n",
      "  g += - np.log(sigma_i)\n",
      "  9%|▉         | 46/500 [02:16<21:44,  2.87s/it]"
     ]
    },
    {
     "name": "stdout",
     "output_type": "stream",
     "text": [
      "0.0007439573127901093\n"
     ]
    },
    {
     "name": "stderr",
     "output_type": "stream",
     "text": [
      "  9%|▉         | 47/500 [02:18<21:29,  2.85s/it]"
     ]
    },
    {
     "name": "stdout",
     "output_type": "stream",
     "text": [
      "0.00011958875314365802\n"
     ]
    },
    {
     "name": "stderr",
     "output_type": "stream",
     "text": [
      " 10%|▉         | 48/500 [02:22<22:39,  3.01s/it]"
     ]
    },
    {
     "name": "stdout",
     "output_type": "stream",
     "text": [
      "0.00022523797296078083\n"
     ]
    },
    {
     "name": "stderr",
     "output_type": "stream",
     "text": [
      " 10%|▉         | 49/500 [02:25<21:51,  2.91s/it]"
     ]
    },
    {
     "name": "stdout",
     "output_type": "stream",
     "text": [
      "0.0006692815753928478\n"
     ]
    },
    {
     "name": "stderr",
     "output_type": "stream",
     "text": [
      " 10%|█         | 50/500 [02:28<23:55,  3.19s/it]"
     ]
    },
    {
     "name": "stdout",
     "output_type": "stream",
     "text": [
      "0.0012472701579851193\n"
     ]
    },
    {
     "name": "stderr",
     "output_type": "stream",
     "text": [
      " 10%|█         | 51/500 [02:31<23:28,  3.14s/it]"
     ]
    },
    {
     "name": "stdout",
     "output_type": "stream",
     "text": [
      "0.0021088942112650255\n"
     ]
    },
    {
     "name": "stderr",
     "output_type": "stream",
     "text": [
      " 10%|█         | 52/500 [02:35<23:36,  3.16s/it]"
     ]
    },
    {
     "name": "stdout",
     "output_type": "stream",
     "text": [
      "0.0034864411368243234\n"
     ]
    },
    {
     "name": "stderr",
     "output_type": "stream",
     "text": [
      " 11%|█         | 53/500 [02:37<22:22,  3.00s/it]"
     ]
    },
    {
     "name": "stdout",
     "output_type": "stream",
     "text": [
      "0.005737582229233125\n"
     ]
    },
    {
     "name": "stderr",
     "output_type": "stream",
     "text": [
      " 11%|█         | 54/500 [02:41<23:00,  3.10s/it]"
     ]
    },
    {
     "name": "stdout",
     "output_type": "stream",
     "text": [
      "0.009484597724189501\n"
     ]
    },
    {
     "name": "stderr",
     "output_type": "stream",
     "text": [
      " 11%|█         | 55/500 [02:43<21:32,  2.90s/it]"
     ]
    },
    {
     "name": "stdout",
     "output_type": "stream",
     "text": [
      "0.015933362021676556\n"
     ]
    },
    {
     "name": "stderr",
     "output_type": "stream",
     "text": [
      " 11%|█         | 56/500 [02:47<23:06,  3.12s/it]"
     ]
    },
    {
     "name": "stdout",
     "output_type": "stream",
     "text": [
      "0.027760354330618353\n"
     ]
    },
    {
     "name": "stderr",
     "output_type": "stream",
     "text": [
      " 11%|█▏        | 57/500 [02:50<22:43,  3.08s/it]"
     ]
    },
    {
     "name": "stdout",
     "output_type": "stream",
     "text": [
      "0.05195924647622245\n"
     ]
    },
    {
     "name": "stderr",
     "output_type": "stream",
     "text": [
      " 12%|█▏        | 58/500 [02:52<22:05,  3.00s/it]"
     ]
    },
    {
     "name": "stdout",
     "output_type": "stream",
     "text": [
      "0.11060458532280731\n"
     ]
    },
    {
     "name": "stderr",
     "output_type": "stream",
     "text": [
      " 12%|█▏        | 59/500 [02:55<21:25,  2.92s/it]"
     ]
    },
    {
     "name": "stdout",
     "output_type": "stream",
     "text": [
      "0.2715729525844591\n"
     ]
    },
    {
     "name": "stderr",
     "output_type": "stream",
     "text": [
      "c:\\Users\\user\\Documents\\codes_MVA\\Bayesian ML github\\bayesian_project\\main.py:19: RuntimeWarning: divide by zero encountered in true_divide\n",
      "  g += lamb * mu[i] * sigma_i * np.sqrt(2/np.pi) * np.exp(-mu[i]**2/(2*sigma_i**2))\n",
      "c:\\Users\\user\\Documents\\codes_MVA\\Bayesian ML github\\bayesian_project\\main.py:20: RuntimeWarning: divide by zero encountered in true_divide\n",
      "  g += lamb * mu[i] * (1 - norm.cdf(mu[i]/sigma_i))\n",
      "c:\\Users\\user\\Documents\\codes_MVA\\Bayesian ML github\\bayesian_project\\main.py:21: RuntimeWarning: divide by zero encountered in log\n",
      "  g += - np.log(sigma_i)\n",
      " 12%|█▏        | 60/500 [02:59<23:16,  3.17s/it]"
     ]
    },
    {
     "name": "stdout",
     "output_type": "stream",
     "text": [
      "0.0006376535794104625\n"
     ]
    },
    {
     "name": "stderr",
     "output_type": "stream",
     "text": [
      "c:\\Users\\user\\Documents\\codes_MVA\\Bayesian ML github\\bayesian_project\\main.py:21: RuntimeWarning: invalid value encountered in log\n",
      "  g += - np.log(sigma_i)\n",
      " 12%|█▏        | 61/500 [03:01<21:47,  2.98s/it]"
     ]
    },
    {
     "name": "stdout",
     "output_type": "stream",
     "text": [
      "0.00014723186832968127\n"
     ]
    },
    {
     "name": "stderr",
     "output_type": "stream",
     "text": [
      " 12%|█▏        | 62/500 [03:04<20:05,  2.75s/it]"
     ]
    },
    {
     "name": "stdout",
     "output_type": "stream",
     "text": [
      "9.235550557079011e-05\n"
     ]
    },
    {
     "name": "stderr",
     "output_type": "stream",
     "text": [
      " 13%|█▎        | 63/500 [03:06<19:21,  2.66s/it]"
     ]
    },
    {
     "name": "stdout",
     "output_type": "stream",
     "text": [
      "0.00026118111611123985\n"
     ]
    },
    {
     "name": "stderr",
     "output_type": "stream",
     "text": [
      " 13%|█▎        | 64/500 [03:09<19:35,  2.70s/it]"
     ]
    },
    {
     "name": "stdout",
     "output_type": "stream",
     "text": [
      "0.000429943902404235\n"
     ]
    },
    {
     "name": "stderr",
     "output_type": "stream",
     "text": [
      " 13%|█▎        | 65/500 [03:12<20:09,  2.78s/it]"
     ]
    },
    {
     "name": "stdout",
     "output_type": "stream",
     "text": [
      "0.0006167873569870113\n"
     ]
    },
    {
     "name": "stderr",
     "output_type": "stream",
     "text": [
      " 13%|█▎        | 66/500 [03:14<19:15,  2.66s/it]"
     ]
    },
    {
     "name": "stdout",
     "output_type": "stream",
     "text": [
      "0.0008347708335334431\n"
     ]
    },
    {
     "name": "stderr",
     "output_type": "stream",
     "text": [
      " 13%|█▎        | 67/500 [03:17<19:51,  2.75s/it]"
     ]
    },
    {
     "name": "stdout",
     "output_type": "stream",
     "text": [
      "0.0010934704681207046\n"
     ]
    },
    {
     "name": "stderr",
     "output_type": "stream",
     "text": [
      " 14%|█▎        | 68/500 [03:20<20:03,  2.79s/it]"
     ]
    },
    {
     "name": "stdout",
     "output_type": "stream",
     "text": [
      "0.0014038239567056698\n"
     ]
    },
    {
     "name": "stderr",
     "output_type": "stream",
     "text": [
      " 14%|█▍        | 69/500 [03:23<20:08,  2.80s/it]"
     ]
    },
    {
     "name": "stdout",
     "output_type": "stream",
     "text": [
      "0.0017829080335022267\n"
     ]
    },
    {
     "name": "stderr",
     "output_type": "stream",
     "text": [
      " 14%|█▍        | 70/500 [03:26<21:17,  2.97s/it]"
     ]
    },
    {
     "name": "stdout",
     "output_type": "stream",
     "text": [
      "0.002339126203677218\n"
     ]
    },
    {
     "name": "stderr",
     "output_type": "stream",
     "text": [
      " 14%|█▍        | 71/500 [03:29<20:17,  2.84s/it]"
     ]
    },
    {
     "name": "stdout",
     "output_type": "stream",
     "text": [
      "0.0032294449319149616\n"
     ]
    },
    {
     "name": "stderr",
     "output_type": "stream",
     "text": [
      " 14%|█▍        | 72/500 [03:32<20:24,  2.86s/it]"
     ]
    },
    {
     "name": "stdout",
     "output_type": "stream",
     "text": [
      "0.0044867623856498316\n"
     ]
    },
    {
     "name": "stderr",
     "output_type": "stream",
     "text": [
      " 15%|█▍        | 73/500 [03:35<21:20,  3.00s/it]"
     ]
    },
    {
     "name": "stdout",
     "output_type": "stream",
     "text": [
      "0.006304048950762968\n"
     ]
    },
    {
     "name": "stderr",
     "output_type": "stream",
     "text": [
      " 15%|█▍        | 74/500 [03:38<20:21,  2.87s/it]"
     ]
    },
    {
     "name": "stdout",
     "output_type": "stream",
     "text": [
      "0.009022959495268847\n"
     ]
    },
    {
     "name": "stderr",
     "output_type": "stream",
     "text": [
      " 15%|█▌        | 75/500 [03:40<19:54,  2.81s/it]"
     ]
    },
    {
     "name": "stdout",
     "output_type": "stream",
     "text": [
      "0.01329106355585094\n"
     ]
    },
    {
     "name": "stderr",
     "output_type": "stream",
     "text": [
      " 15%|█▌        | 76/500 [03:44<21:42,  3.07s/it]"
     ]
    },
    {
     "name": "stdout",
     "output_type": "stream",
     "text": [
      "0.020463774068109918\n"
     ]
    },
    {
     "name": "stderr",
     "output_type": "stream",
     "text": [
      " 15%|█▌        | 77/500 [03:47<22:02,  3.13s/it]"
     ]
    },
    {
     "name": "stdout",
     "output_type": "stream",
     "text": [
      "0.033741991629599885\n"
     ]
    },
    {
     "name": "stderr",
     "output_type": "stream",
     "text": [
      " 16%|█▌        | 78/500 [03:50<21:22,  3.04s/it]"
     ]
    },
    {
     "name": "stdout",
     "output_type": "stream",
     "text": [
      "0.06189806230566178\n"
     ]
    },
    {
     "name": "stderr",
     "output_type": "stream",
     "text": [
      " 16%|█▌        | 79/500 [03:53<21:26,  3.06s/it]"
     ]
    },
    {
     "name": "stdout",
     "output_type": "stream",
     "text": [
      "0.13332357157870994\n"
     ]
    },
    {
     "name": "stderr",
     "output_type": "stream",
     "text": [
      " 16%|█▌        | 80/500 [03:57<22:03,  3.15s/it]"
     ]
    },
    {
     "name": "stdout",
     "output_type": "stream",
     "text": [
      "0.3098926299732887\n"
     ]
    },
    {
     "name": "stderr",
     "output_type": "stream",
     "text": [
      "c:\\Users\\user\\Documents\\codes_MVA\\Bayesian ML github\\bayesian_project\\main.py:19: RuntimeWarning: divide by zero encountered in true_divide\n",
      "  g += lamb * mu[i] * sigma_i * np.sqrt(2/np.pi) * np.exp(-mu[i]**2/(2*sigma_i**2))\n",
      "c:\\Users\\user\\Documents\\codes_MVA\\Bayesian ML github\\bayesian_project\\main.py:20: RuntimeWarning: divide by zero encountered in true_divide\n",
      "  g += lamb * mu[i] * (1 - norm.cdf(mu[i]/sigma_i))\n",
      "c:\\Users\\user\\Documents\\codes_MVA\\Bayesian ML github\\bayesian_project\\main.py:21: RuntimeWarning: divide by zero encountered in log\n",
      "  g += - np.log(sigma_i)\n",
      " 16%|█▌        | 81/500 [04:00<22:57,  3.29s/it]"
     ]
    },
    {
     "name": "stdout",
     "output_type": "stream",
     "text": [
      "0.21235720383810125\n"
     ]
    },
    {
     "name": "stderr",
     "output_type": "stream",
     "text": [
      " 16%|█▋        | 82/500 [04:03<22:10,  3.18s/it]"
     ]
    },
    {
     "name": "stdout",
     "output_type": "stream",
     "text": [
      "0.422478084301871\n"
     ]
    },
    {
     "name": "stderr",
     "output_type": "stream",
     "text": [
      " 17%|█▋        | 83/500 [04:06<21:39,  3.12s/it]"
     ]
    },
    {
     "name": "stdout",
     "output_type": "stream",
     "text": [
      "0.04334841826725791\n"
     ]
    },
    {
     "name": "stderr",
     "output_type": "stream",
     "text": [
      " 17%|█▋        | 84/500 [04:09<20:33,  2.97s/it]"
     ]
    },
    {
     "name": "stdout",
     "output_type": "stream",
     "text": [
      "0.10014937876797929\n"
     ]
    },
    {
     "name": "stderr",
     "output_type": "stream",
     "text": [
      " 17%|█▋        | 85/500 [04:11<19:51,  2.87s/it]"
     ]
    },
    {
     "name": "stdout",
     "output_type": "stream",
     "text": [
      "0.2936589902179845\n"
     ]
    },
    {
     "name": "stderr",
     "output_type": "stream",
     "text": [
      "c:\\Users\\user\\Documents\\codes_MVA\\Bayesian ML github\\bayesian_project\\main.py:19: RuntimeWarning: divide by zero encountered in true_divide\n",
      "  g += lamb * mu[i] * sigma_i * np.sqrt(2/np.pi) * np.exp(-mu[i]**2/(2*sigma_i**2))\n",
      "c:\\Users\\user\\Documents\\codes_MVA\\Bayesian ML github\\bayesian_project\\main.py:20: RuntimeWarning: divide by zero encountered in true_divide\n",
      "  g += lamb * mu[i] * (1 - norm.cdf(mu[i]/sigma_i))\n",
      "c:\\Users\\user\\Documents\\codes_MVA\\Bayesian ML github\\bayesian_project\\main.py:21: RuntimeWarning: divide by zero encountered in log\n",
      "  g += - np.log(sigma_i)\n",
      " 17%|█▋        | 86/500 [04:14<18:48,  2.72s/it]"
     ]
    },
    {
     "name": "stdout",
     "output_type": "stream",
     "text": [
      "0.2852812466725656\n"
     ]
    },
    {
     "name": "stderr",
     "output_type": "stream",
     "text": [
      "c:\\Users\\user\\Documents\\codes_MVA\\Bayesian ML github\\bayesian_project\\main.py:19: RuntimeWarning: divide by zero encountered in true_divide\n",
      "  g += lamb * mu[i] * sigma_i * np.sqrt(2/np.pi) * np.exp(-mu[i]**2/(2*sigma_i**2))\n",
      "c:\\Users\\user\\Documents\\codes_MVA\\Bayesian ML github\\bayesian_project\\main.py:20: RuntimeWarning: divide by zero encountered in true_divide\n",
      "  g += lamb * mu[i] * (1 - norm.cdf(mu[i]/sigma_i))\n",
      "c:\\Users\\user\\Documents\\codes_MVA\\Bayesian ML github\\bayesian_project\\main.py:21: RuntimeWarning: divide by zero encountered in log\n",
      "  g += - np.log(sigma_i)\n",
      "c:\\Users\\user\\Documents\\codes_MVA\\Bayesian ML github\\bayesian_project\\main.py:21: RuntimeWarning: invalid value encountered in log\n",
      "  g += - np.log(sigma_i)\n",
      " 17%|█▋        | 87/500 [04:16<18:13,  2.65s/it]"
     ]
    },
    {
     "name": "stdout",
     "output_type": "stream",
     "text": [
      "0.0002462071000143718\n"
     ]
    },
    {
     "name": "stderr",
     "output_type": "stream",
     "text": [
      " 18%|█▊        | 88/500 [04:19<18:46,  2.74s/it]"
     ]
    },
    {
     "name": "stdout",
     "output_type": "stream",
     "text": [
      "6.325399176395664e-05\n"
     ]
    },
    {
     "name": "stderr",
     "output_type": "stream",
     "text": [
      " 18%|█▊        | 89/500 [04:21<17:50,  2.60s/it]"
     ]
    },
    {
     "name": "stdout",
     "output_type": "stream",
     "text": [
      "4.140956341158359e-05\n"
     ]
    },
    {
     "name": "stderr",
     "output_type": "stream",
     "text": [
      " 18%|█▊        | 90/500 [04:24<17:20,  2.54s/it]"
     ]
    },
    {
     "name": "stdout",
     "output_type": "stream",
     "text": [
      "6.473802830100431e-05\n"
     ]
    },
    {
     "name": "stderr",
     "output_type": "stream",
     "text": [
      " 18%|█▊        | 91/500 [04:27<18:59,  2.79s/it]"
     ]
    },
    {
     "name": "stdout",
     "output_type": "stream",
     "text": [
      "0.00011011403535788505\n"
     ]
    },
    {
     "name": "stderr",
     "output_type": "stream",
     "text": [
      " 18%|█▊        | 92/500 [04:30<18:39,  2.74s/it]"
     ]
    },
    {
     "name": "stdout",
     "output_type": "stream",
     "text": [
      "0.00018343617031440725\n"
     ]
    },
    {
     "name": "stderr",
     "output_type": "stream",
     "text": [
      " 19%|█▊        | 93/500 [04:33<20:14,  2.98s/it]"
     ]
    },
    {
     "name": "stdout",
     "output_type": "stream",
     "text": [
      "0.00029753316464648904\n"
     ]
    },
    {
     "name": "stderr",
     "output_type": "stream",
     "text": [
      " 19%|█▉        | 94/500 [04:36<18:41,  2.76s/it]"
     ]
    },
    {
     "name": "stdout",
     "output_type": "stream",
     "text": [
      "0.0004729060585517078\n"
     ]
    },
    {
     "name": "stderr",
     "output_type": "stream",
     "text": [
      " 19%|█▉        | 95/500 [04:39<19:34,  2.90s/it]"
     ]
    },
    {
     "name": "stdout",
     "output_type": "stream",
     "text": [
      "0.0007400626725784629\n"
     ]
    },
    {
     "name": "stderr",
     "output_type": "stream",
     "text": [
      " 19%|█▉        | 96/500 [04:41<18:49,  2.80s/it]"
     ]
    },
    {
     "name": "stdout",
     "output_type": "stream",
     "text": [
      "0.0011443116619946868\n"
     ]
    },
    {
     "name": "stderr",
     "output_type": "stream",
     "text": [
      " 19%|█▉        | 97/500 [04:44<17:43,  2.64s/it]"
     ]
    },
    {
     "name": "stdout",
     "output_type": "stream",
     "text": [
      "0.0017526110790240241\n"
     ]
    },
    {
     "name": "stderr",
     "output_type": "stream",
     "text": [
      " 20%|█▉        | 98/500 [04:47<18:58,  2.83s/it]"
     ]
    },
    {
     "name": "stdout",
     "output_type": "stream",
     "text": [
      "0.0026664781809634134\n"
     ]
    },
    {
     "name": "stderr",
     "output_type": "stream",
     "text": [
      " 20%|█▉        | 99/500 [04:51<20:42,  3.10s/it]"
     ]
    },
    {
     "name": "stdout",
     "output_type": "stream",
     "text": [
      "0.00404261181505927\n"
     ]
    },
    {
     "name": "stderr",
     "output_type": "stream",
     "text": [
      " 20%|██        | 100/500 [04:54<21:36,  3.24s/it]"
     ]
    },
    {
     "name": "stdout",
     "output_type": "stream",
     "text": [
      "0.006135302816168316\n"
     ]
    },
    {
     "name": "stderr",
     "output_type": "stream",
     "text": [
      " 20%|██        | 101/500 [04:57<21:15,  3.20s/it]"
     ]
    },
    {
     "name": "stdout",
     "output_type": "stream",
     "text": [
      "0.009387884226826935\n"
     ]
    },
    {
     "name": "stderr",
     "output_type": "stream",
     "text": [
      " 20%|██        | 102/500 [05:00<20:48,  3.14s/it]"
     ]
    },
    {
     "name": "stdout",
     "output_type": "stream",
     "text": [
      "0.014628440562259037\n"
     ]
    },
    {
     "name": "stderr",
     "output_type": "stream",
     "text": [
      " 21%|██        | 103/500 [05:03<20:11,  3.05s/it]"
     ]
    },
    {
     "name": "stdout",
     "output_type": "stream",
     "text": [
      "0.023599160189865666\n"
     ]
    },
    {
     "name": "stderr",
     "output_type": "stream",
     "text": [
      " 21%|██        | 104/500 [05:06<20:39,  3.13s/it]"
     ]
    },
    {
     "name": "stdout",
     "output_type": "stream",
     "text": [
      "0.04048706151046161\n"
     ]
    },
    {
     "name": "stderr",
     "output_type": "stream",
     "text": [
      " 21%|██        | 105/500 [05:09<19:23,  2.95s/it]"
     ]
    },
    {
     "name": "stdout",
     "output_type": "stream",
     "text": [
      "0.07702014992435614\n"
     ]
    },
    {
     "name": "stderr",
     "output_type": "stream",
     "text": [
      " 21%|██        | 106/500 [05:12<20:15,  3.09s/it]"
     ]
    },
    {
     "name": "stdout",
     "output_type": "stream",
     "text": [
      "0.17068211554321655\n"
     ]
    },
    {
     "name": "stderr",
     "output_type": "stream",
     "text": [
      " 21%|██▏       | 107/500 [05:15<19:50,  3.03s/it]"
     ]
    },
    {
     "name": "stdout",
     "output_type": "stream",
     "text": [
      "0.3275839928858045\n"
     ]
    },
    {
     "name": "stderr",
     "output_type": "stream",
     "text": [
      "c:\\Users\\user\\Documents\\codes_MVA\\Bayesian ML github\\bayesian_project\\main.py:19: RuntimeWarning: divide by zero encountered in true_divide\n",
      "  g += lamb * mu[i] * sigma_i * np.sqrt(2/np.pi) * np.exp(-mu[i]**2/(2*sigma_i**2))\n",
      "c:\\Users\\user\\Documents\\codes_MVA\\Bayesian ML github\\bayesian_project\\main.py:20: RuntimeWarning: divide by zero encountered in true_divide\n",
      "  g += lamb * mu[i] * (1 - norm.cdf(mu[i]/sigma_i))\n",
      "c:\\Users\\user\\Documents\\codes_MVA\\Bayesian ML github\\bayesian_project\\main.py:21: RuntimeWarning: divide by zero encountered in log\n",
      "  g += - np.log(sigma_i)\n",
      " 22%|██▏       | 108/500 [05:18<19:06,  2.92s/it]"
     ]
    },
    {
     "name": "stdout",
     "output_type": "stream",
     "text": [
      "0.030954618165208055\n"
     ]
    },
    {
     "name": "stderr",
     "output_type": "stream",
     "text": [
      "c:\\Users\\user\\Documents\\codes_MVA\\Bayesian ML github\\bayesian_project\\main.py:19: RuntimeWarning: divide by zero encountered in true_divide\n",
      "  g += lamb * mu[i] * sigma_i * np.sqrt(2/np.pi) * np.exp(-mu[i]**2/(2*sigma_i**2))\n",
      "c:\\Users\\user\\Documents\\codes_MVA\\Bayesian ML github\\bayesian_project\\main.py:20: RuntimeWarning: divide by zero encountered in true_divide\n",
      "  g += lamb * mu[i] * (1 - norm.cdf(mu[i]/sigma_i))\n",
      "c:\\Users\\user\\Documents\\codes_MVA\\Bayesian ML github\\bayesian_project\\main.py:21: RuntimeWarning: divide by zero encountered in log\n",
      "  g += - np.log(sigma_i)\n",
      " 22%|██▏       | 109/500 [05:20<18:16,  2.80s/it]"
     ]
    },
    {
     "name": "stdout",
     "output_type": "stream",
     "text": [
      "0.035659502984294336\n"
     ]
    },
    {
     "name": "stderr",
     "output_type": "stream",
     "text": [
      " 22%|██▏       | 110/500 [05:23<17:59,  2.77s/it]"
     ]
    },
    {
     "name": "stdout",
     "output_type": "stream",
     "text": [
      "0.0699129129116064\n"
     ]
    },
    {
     "name": "stderr",
     "output_type": "stream",
     "text": [
      " 22%|██▏       | 111/500 [05:26<17:30,  2.70s/it]"
     ]
    },
    {
     "name": "stdout",
     "output_type": "stream",
     "text": [
      "0.1516836807177355\n"
     ]
    },
    {
     "name": "stderr",
     "output_type": "stream",
     "text": [
      " 22%|██▏       | 112/500 [05:30<20:39,  3.19s/it]"
     ]
    },
    {
     "name": "stdout",
     "output_type": "stream",
     "text": [
      "0.36261251689383156\n"
     ]
    },
    {
     "name": "stderr",
     "output_type": "stream",
     "text": [
      "c:\\Users\\user\\Documents\\codes_MVA\\Bayesian ML github\\bayesian_project\\main.py:19: RuntimeWarning: divide by zero encountered in true_divide\n",
      "  g += lamb * mu[i] * sigma_i * np.sqrt(2/np.pi) * np.exp(-mu[i]**2/(2*sigma_i**2))\n",
      "c:\\Users\\user\\Documents\\codes_MVA\\Bayesian ML github\\bayesian_project\\main.py:20: RuntimeWarning: divide by zero encountered in true_divide\n",
      "  g += lamb * mu[i] * (1 - norm.cdf(mu[i]/sigma_i))\n",
      "c:\\Users\\user\\Documents\\codes_MVA\\Bayesian ML github\\bayesian_project\\main.py:21: RuntimeWarning: divide by zero encountered in log\n",
      "  g += - np.log(sigma_i)\n",
      " 23%|██▎       | 113/500 [05:33<20:56,  3.25s/it]"
     ]
    },
    {
     "name": "stdout",
     "output_type": "stream",
     "text": [
      "0.1998957006929848\n"
     ]
    },
    {
     "name": "stderr",
     "output_type": "stream",
     "text": [
      "c:\\Users\\user\\Documents\\codes_MVA\\Bayesian ML github\\bayesian_project\\main.py:19: RuntimeWarning: divide by zero encountered in true_divide\n",
      "  g += lamb * mu[i] * sigma_i * np.sqrt(2/np.pi) * np.exp(-mu[i]**2/(2*sigma_i**2))\n",
      "c:\\Users\\user\\Documents\\codes_MVA\\Bayesian ML github\\bayesian_project\\main.py:20: RuntimeWarning: divide by zero encountered in true_divide\n",
      "  g += lamb * mu[i] * (1 - norm.cdf(mu[i]/sigma_i))\n",
      "c:\\Users\\user\\Documents\\codes_MVA\\Bayesian ML github\\bayesian_project\\main.py:21: RuntimeWarning: divide by zero encountered in log\n",
      "  g += - np.log(sigma_i)\n",
      " 23%|██▎       | 114/500 [05:36<20:04,  3.12s/it]"
     ]
    },
    {
     "name": "stdout",
     "output_type": "stream",
     "text": [
      "0.280515283716928\n"
     ]
    },
    {
     "name": "stderr",
     "output_type": "stream",
     "text": [
      "c:\\Users\\user\\Documents\\codes_MVA\\Bayesian ML github\\bayesian_project\\main.py:19: RuntimeWarning: divide by zero encountered in true_divide\n",
      "  g += lamb * mu[i] * sigma_i * np.sqrt(2/np.pi) * np.exp(-mu[i]**2/(2*sigma_i**2))\n",
      "c:\\Users\\user\\Documents\\codes_MVA\\Bayesian ML github\\bayesian_project\\main.py:20: RuntimeWarning: divide by zero encountered in true_divide\n",
      "  g += lamb * mu[i] * (1 - norm.cdf(mu[i]/sigma_i))\n",
      "c:\\Users\\user\\Documents\\codes_MVA\\Bayesian ML github\\bayesian_project\\main.py:21: RuntimeWarning: divide by zero encountered in log\n",
      "  g += - np.log(sigma_i)\n",
      " 23%|██▎       | 115/500 [05:40<20:50,  3.25s/it]"
     ]
    },
    {
     "name": "stdout",
     "output_type": "stream",
     "text": [
      "0.026172897313392056\n"
     ]
    },
    {
     "name": "stderr",
     "output_type": "stream",
     "text": [
      " 23%|██▎       | 116/500 [05:43<19:50,  3.10s/it]"
     ]
    },
    {
     "name": "stdout",
     "output_type": "stream",
     "text": [
      "0.0374840527865174\n"
     ]
    },
    {
     "name": "stderr",
     "output_type": "stream",
     "text": [
      " 23%|██▎       | 117/500 [05:45<18:55,  2.96s/it]"
     ]
    },
    {
     "name": "stdout",
     "output_type": "stream",
     "text": [
      "0.05274405819224354\n"
     ]
    },
    {
     "name": "stderr",
     "output_type": "stream",
     "text": [
      " 24%|██▎       | 118/500 [05:49<19:35,  3.08s/it]"
     ]
    },
    {
     "name": "stdout",
     "output_type": "stream",
     "text": [
      "0.09143893749965121\n"
     ]
    },
    {
     "name": "stderr",
     "output_type": "stream",
     "text": [
      " 24%|██▍       | 119/500 [05:51<18:22,  2.89s/it]"
     ]
    },
    {
     "name": "stdout",
     "output_type": "stream",
     "text": [
      "0.19721185050106876\n"
     ]
    },
    {
     "name": "stderr",
     "output_type": "stream",
     "text": [
      " 24%|██▍       | 120/500 [05:55<20:28,  3.23s/it]"
     ]
    },
    {
     "name": "stdout",
     "output_type": "stream",
     "text": [
      "0.2716573538019298\n"
     ]
    },
    {
     "name": "stderr",
     "output_type": "stream",
     "text": [
      "c:\\Users\\user\\Documents\\codes_MVA\\Bayesian ML github\\bayesian_project\\main.py:19: RuntimeWarning: divide by zero encountered in true_divide\n",
      "  g += lamb * mu[i] * sigma_i * np.sqrt(2/np.pi) * np.exp(-mu[i]**2/(2*sigma_i**2))\n",
      "c:\\Users\\user\\Documents\\codes_MVA\\Bayesian ML github\\bayesian_project\\main.py:20: RuntimeWarning: divide by zero encountered in true_divide\n",
      "  g += lamb * mu[i] * (1 - norm.cdf(mu[i]/sigma_i))\n",
      "c:\\Users\\user\\Documents\\codes_MVA\\Bayesian ML github\\bayesian_project\\main.py:21: RuntimeWarning: divide by zero encountered in log\n",
      "  g += - np.log(sigma_i)\n",
      " 24%|██▍       | 121/500 [05:59<21:02,  3.33s/it]"
     ]
    },
    {
     "name": "stdout",
     "output_type": "stream",
     "text": [
      "0.023626767993695393\n"
     ]
    },
    {
     "name": "stderr",
     "output_type": "stream",
     "text": [
      "c:\\Users\\user\\Documents\\codes_MVA\\Bayesian ML github\\bayesian_project\\main.py:19: RuntimeWarning: divide by zero encountered in true_divide\n",
      "  g += lamb * mu[i] * sigma_i * np.sqrt(2/np.pi) * np.exp(-mu[i]**2/(2*sigma_i**2))\n",
      "c:\\Users\\user\\Documents\\codes_MVA\\Bayesian ML github\\bayesian_project\\main.py:20: RuntimeWarning: divide by zero encountered in true_divide\n",
      "  g += lamb * mu[i] * (1 - norm.cdf(mu[i]/sigma_i))\n",
      "c:\\Users\\user\\Documents\\codes_MVA\\Bayesian ML github\\bayesian_project\\main.py:21: RuntimeWarning: divide by zero encountered in log\n",
      "  g += - np.log(sigma_i)\n",
      " 24%|██▍       | 122/500 [06:01<19:37,  3.11s/it]"
     ]
    },
    {
     "name": "stdout",
     "output_type": "stream",
     "text": [
      "0.000175439043555335\n"
     ]
    },
    {
     "name": "stderr",
     "output_type": "stream",
     "text": [
      " 25%|██▍       | 123/500 [06:04<18:48,  2.99s/it]"
     ]
    },
    {
     "name": "stdout",
     "output_type": "stream",
     "text": [
      "0.0014045634048437915\n"
     ]
    },
    {
     "name": "stderr",
     "output_type": "stream",
     "text": [
      " 25%|██▍       | 124/500 [06:07<18:47,  3.00s/it]"
     ]
    },
    {
     "name": "stdout",
     "output_type": "stream",
     "text": [
      "0.0049840385211152895\n"
     ]
    },
    {
     "name": "stderr",
     "output_type": "stream",
     "text": [
      " 25%|██▌       | 125/500 [06:10<19:05,  3.05s/it]"
     ]
    },
    {
     "name": "stdout",
     "output_type": "stream",
     "text": [
      "0.008736962730251562\n"
     ]
    },
    {
     "name": "stderr",
     "output_type": "stream",
     "text": [
      " 25%|██▌       | 126/500 [06:13<18:32,  2.98s/it]"
     ]
    },
    {
     "name": "stdout",
     "output_type": "stream",
     "text": [
      "0.01409819821248015\n"
     ]
    },
    {
     "name": "stderr",
     "output_type": "stream",
     "text": [
      " 25%|██▌       | 127/500 [06:16<19:30,  3.14s/it]"
     ]
    },
    {
     "name": "stdout",
     "output_type": "stream",
     "text": [
      "0.02283326770154595\n"
     ]
    },
    {
     "name": "stderr",
     "output_type": "stream",
     "text": [
      " 26%|██▌       | 128/500 [06:19<18:44,  3.02s/it]"
     ]
    },
    {
     "name": "stdout",
     "output_type": "stream",
     "text": [
      "0.03922734167802848\n"
     ]
    },
    {
     "name": "stderr",
     "output_type": "stream",
     "text": [
      " 26%|██▌       | 129/500 [06:22<17:23,  2.81s/it]"
     ]
    },
    {
     "name": "stdout",
     "output_type": "stream",
     "text": [
      "0.07605635067514803\n"
     ]
    },
    {
     "name": "stderr",
     "output_type": "stream",
     "text": [
      " 26%|██▌       | 130/500 [06:25<19:00,  3.08s/it]"
     ]
    },
    {
     "name": "stdout",
     "output_type": "stream",
     "text": [
      "0.17790228604714253\n"
     ]
    },
    {
     "name": "stderr",
     "output_type": "stream",
     "text": [
      " 26%|██▌       | 131/500 [06:28<18:13,  2.96s/it]"
     ]
    },
    {
     "name": "stdout",
     "output_type": "stream",
     "text": [
      "0.3231120795105789\n"
     ]
    },
    {
     "name": "stderr",
     "output_type": "stream",
     "text": [
      " 26%|██▋       | 132/500 [06:31<18:40,  3.05s/it]"
     ]
    },
    {
     "name": "stdout",
     "output_type": "stream",
     "text": [
      "0.00015060286740680318\n"
     ]
    },
    {
     "name": "stderr",
     "output_type": "stream",
     "text": [
      " 27%|██▋       | 133/500 [06:34<19:00,  3.11s/it]"
     ]
    },
    {
     "name": "stdout",
     "output_type": "stream",
     "text": [
      "0.00013590792920601443\n"
     ]
    },
    {
     "name": "stderr",
     "output_type": "stream",
     "text": [
      " 27%|██▋       | 134/500 [06:37<17:42,  2.90s/it]"
     ]
    },
    {
     "name": "stdout",
     "output_type": "stream",
     "text": [
      "3.7854776749659744e-05\n"
     ]
    },
    {
     "name": "stderr",
     "output_type": "stream",
     "text": [
      " 27%|██▋       | 135/500 [06:40<18:00,  2.96s/it]"
     ]
    },
    {
     "name": "stdout",
     "output_type": "stream",
     "text": [
      "3.746763403299387e-05\n"
     ]
    },
    {
     "name": "stderr",
     "output_type": "stream",
     "text": [
      " 27%|██▋       | 136/500 [06:43<17:37,  2.90s/it]"
     ]
    },
    {
     "name": "stdout",
     "output_type": "stream",
     "text": [
      "1.8923193246046452e-05\n"
     ]
    },
    {
     "name": "stderr",
     "output_type": "stream",
     "text": [
      " 27%|██▋       | 136/500 [06:45<18:05,  2.98s/it]"
     ]
    },
    {
     "name": "stdout",
     "output_type": "stream",
     "text": [
      "9.826409507480982e-06\n"
     ]
    },
    {
     "name": "stderr",
     "output_type": "stream",
     "text": [
      "\n"
     ]
    }
   ],
   "source": [
    "# initialize\n",
    "mu_0 = vb.mu_0(X, Y)\n",
    "sigma_0 = 2*np.random.random(p)\n",
    "gamma_0 = np.random.random(p)\n",
    "\n",
    "mu_laplace, sigma_laplace, gamma_laplace = vb.variational_laplace(X, Y, sigma_0, gamma_0, mu_0, a0=1, b0=p, lamb=1, eps=1e-5, max_it=500)"
   ]
  },
  {
   "cell_type": "code",
   "execution_count": 19,
   "metadata": {},
   "outputs": [
    {
     "data": {
      "text/plain": [
       "(array([False,  True]), array([ 50, 150], dtype=int64))"
      ]
     },
     "execution_count": 19,
     "metadata": {},
     "output_type": "execute_result"
    }
   ],
   "source": [
    "counts_laplace = np.unique(gamma_laplace == 1, return_counts=True)\n",
    "counts_laplace"
   ]
  },
  {
   "cell_type": "code",
   "execution_count": 20,
   "metadata": {},
   "outputs": [],
   "source": [
    "theta_laplace = gamma_laplace * np.random.normal(mu_laplace, sigma_laplace)\n",
    "results_laplace = X @ theta_laplace"
   ]
  },
  {
   "cell_type": "code",
   "execution_count": 21,
   "metadata": {},
   "outputs": [
    {
     "data": {
      "text/plain": [
       "array([ -72.71549154, -134.93730699, -108.69534667,   21.11848644,\n",
       "         63.59151315,  -82.85339942,  214.03878777,  -21.88792205,\n",
       "        -64.2133838 , -117.03068963])"
      ]
     },
     "execution_count": 21,
     "metadata": {},
     "output_type": "execute_result"
    }
   ],
   "source": [
    "results_laplace[:10]"
   ]
  },
  {
   "cell_type": "code",
   "execution_count": 22,
   "metadata": {},
   "outputs": [
    {
     "data": {
      "text/plain": [
       "array([ -73.80044883, -138.37021282, -109.13433869,   21.29070526,\n",
       "         61.91590928,  -81.93961204,  214.47312348,  -19.70136864,\n",
       "        -63.34987292, -116.91127745])"
      ]
     },
     "execution_count": 22,
     "metadata": {},
     "output_type": "execute_result"
    }
   ],
   "source": [
    "Y[:10]"
   ]
  },
  {
   "cell_type": "markdown",
   "metadata": {},
   "source": [
    "# Gaussian prior Slabs"
   ]
  },
  {
   "cell_type": "code",
   "execution_count": 24,
   "metadata": {},
   "outputs": [
    {
     "name": "stderr",
     "output_type": "stream",
     "text": [
      "  2%|▏         | 3/130 [00:00<00:05, 22.39it/s]"
     ]
    },
    {
     "name": "stdout",
     "output_type": "stream",
     "text": [
      "0.026935522940370604\n",
      "0.2025124999809382\n",
      "0.39729442029815687\n",
      "0.629891577992295\n"
     ]
    },
    {
     "name": "stderr",
     "output_type": "stream",
     "text": [
      "  6%|▌         | 8/130 [00:00<00:07, 17.06it/s]"
     ]
    },
    {
     "name": "stdout",
     "output_type": "stream",
     "text": [
      "0.4828807613016846\n",
      "0.2837432311687955\n",
      "0.41097831333842894\n",
      "0.1445458244343803\n"
     ]
    },
    {
     "name": "stderr",
     "output_type": "stream",
     "text": [
      "  9%|▉         | 12/130 [00:00<00:07, 16.14it/s]"
     ]
    },
    {
     "name": "stdout",
     "output_type": "stream",
     "text": [
      "0.13399066713926971\n",
      "0.22174127900976137\n",
      "0.048049774975559366\n",
      "0.34280051198949535\n"
     ]
    },
    {
     "name": "stderr",
     "output_type": "stream",
     "text": [
      " 12%|█▏        | 16/130 [00:00<00:07, 15.00it/s]"
     ]
    },
    {
     "name": "stdout",
     "output_type": "stream",
     "text": [
      "0.14497608220123187\n",
      "0.3704581285391313\n",
      "0.23760934511887127\n",
      "0.4054660693974727\n"
     ]
    },
    {
     "name": "stderr",
     "output_type": "stream",
     "text": [
      " 15%|█▌        | 20/130 [00:01<00:07, 14.55it/s]"
     ]
    },
    {
     "name": "stdout",
     "output_type": "stream",
     "text": [
      "0.002330077941062824\n",
      "0.005212208891049565\n",
      "0.019466397010312067\n"
     ]
    },
    {
     "name": "stderr",
     "output_type": "stream",
     "text": [
      " 17%|█▋        | 22/130 [00:01<00:07, 14.07it/s]"
     ]
    },
    {
     "name": "stdout",
     "output_type": "stream",
     "text": [
      "0.05616863212620064\n",
      "0.16584543673524405\n",
      "0.4160280932198871\n"
     ]
    },
    {
     "name": "stderr",
     "output_type": "stream",
     "text": [
      " 20%|██        | 26/130 [00:01<00:07, 13.56it/s]"
     ]
    },
    {
     "name": "stdout",
     "output_type": "stream",
     "text": [
      "0.0010778996176818365\n",
      "0.0005046029574822747\n",
      "0.001153651872581569\n",
      "0.0016149708810181422\n"
     ]
    },
    {
     "name": "stderr",
     "output_type": "stream",
     "text": [
      " 23%|██▎       | 30/130 [00:02<00:07, 14.17it/s]"
     ]
    },
    {
     "name": "stdout",
     "output_type": "stream",
     "text": [
      "0.006637113421424031\n",
      "0.05495283310690956\n",
      "0.2910340416973026\n",
      "0.16582564190780086\n"
     ]
    },
    {
     "name": "stderr",
     "output_type": "stream",
     "text": [
      " 26%|██▌       | 34/130 [00:02<00:06, 13.94it/s]"
     ]
    },
    {
     "name": "stdout",
     "output_type": "stream",
     "text": [
      "0.004014589368846636\n",
      "0.0038511839454620778\n",
      "0.006778754534700962\n",
      "0.013756934153536963\n"
     ]
    },
    {
     "name": "stderr",
     "output_type": "stream",
     "text": [
      " 29%|██▉       | 38/130 [00:02<00:06, 14.09it/s]"
     ]
    },
    {
     "name": "stdout",
     "output_type": "stream",
     "text": [
      "0.02870630277856838\n",
      "0.06150142527996363\n",
      "0.148218774837643\n"
     ]
    },
    {
     "name": "stderr",
     "output_type": "stream",
     "text": [
      " 31%|███       | 40/130 [00:02<00:06, 14.00it/s]"
     ]
    },
    {
     "name": "stdout",
     "output_type": "stream",
     "text": [
      "0.3643920088809815\n",
      "0.41050431783365776\n",
      "0.3063691261518186\n"
     ]
    },
    {
     "name": "stderr",
     "output_type": "stream",
     "text": [
      " 34%|███▍      | 44/130 [00:03<00:05, 14.40it/s]"
     ]
    },
    {
     "name": "stdout",
     "output_type": "stream",
     "text": [
      "0.26072896676988877\n",
      "0.10962447909620429\n",
      "0.3545227011797777\n"
     ]
    },
    {
     "name": "stderr",
     "output_type": "stream",
     "text": [
      " 35%|███▌      | 46/130 [00:03<00:05, 14.09it/s]"
     ]
    },
    {
     "name": "stdout",
     "output_type": "stream",
     "text": [
      "0.0013031461250878566\n",
      "0.0003501607211228103\n",
      "0.0002011196818318354\n"
     ]
    },
    {
     "name": "stderr",
     "output_type": "stream",
     "text": [
      " 38%|███▊      | 50/130 [00:03<00:05, 14.42it/s]"
     ]
    },
    {
     "name": "stdout",
     "output_type": "stream",
     "text": [
      "9.140125992929127e-05\n",
      "0.00014647156670407382\n",
      "0.0002500949416778018\n"
     ]
    },
    {
     "name": "stderr",
     "output_type": "stream",
     "text": [
      " 40%|████      | 52/130 [00:03<00:05, 14.51it/s]"
     ]
    },
    {
     "name": "stdout",
     "output_type": "stream",
     "text": [
      "0.000419896238360795\n",
      "0.0006931265898194418\n",
      "0.001130422535364696\n"
     ]
    },
    {
     "name": "stderr",
     "output_type": "stream",
     "text": [
      " 43%|████▎     | 56/130 [00:03<00:05, 14.43it/s]"
     ]
    },
    {
     "name": "stdout",
     "output_type": "stream",
     "text": [
      "0.0018280593792933775\n",
      "0.0029398027509758605\n",
      "0.004718268824586691\n",
      "0.007600982673308705\n"
     ]
    },
    {
     "name": "stderr",
     "output_type": "stream",
     "text": [
      " 46%|████▌     | 60/130 [00:04<00:04, 14.24it/s]"
     ]
    },
    {
     "name": "stdout",
     "output_type": "stream",
     "text": [
      "0.012410460847082423\n",
      "0.02087907311520018\n",
      "0.03723264303796172\n"
     ]
    },
    {
     "name": "stderr",
     "output_type": "stream",
     "text": [
      " 48%|████▊     | 62/130 [00:04<00:04, 13.89it/s]"
     ]
    },
    {
     "name": "stdout",
     "output_type": "stream",
     "text": [
      "0.07383454112215182\n",
      "0.17358171977856346\n",
      "0.3493833914477572\n"
     ]
    },
    {
     "name": "stderr",
     "output_type": "stream",
     "text": [
      " 51%|█████     | 66/130 [00:04<00:04, 14.00it/s]"
     ]
    },
    {
     "name": "stdout",
     "output_type": "stream",
     "text": [
      "0.0005500348029322747\n",
      "0.0011129075988222774\n",
      "0.002590950504921738\n",
      "0.004773228213591588\n"
     ]
    },
    {
     "name": "stderr",
     "output_type": "stream",
     "text": [
      " 54%|█████▍    | 70/130 [00:04<00:04, 14.02it/s]"
     ]
    },
    {
     "name": "stdout",
     "output_type": "stream",
     "text": [
      "0.009377713497032276\n",
      "0.017636794586667406\n",
      "0.03383341377210766\n",
      "0.07078222032533639\n"
     ]
    },
    {
     "name": "stderr",
     "output_type": "stream",
     "text": [
      " 57%|█████▋    | 74/130 [00:05<00:03, 14.25it/s]"
     ]
    },
    {
     "name": "stdout",
     "output_type": "stream",
     "text": [
      "0.17384938270536285\n",
      "0.3641275570787802\n",
      "0.05180135957392261\n",
      "0.13071430206938717\n"
     ]
    },
    {
     "name": "stderr",
     "output_type": "stream",
     "text": [
      " 60%|██████    | 78/130 [00:05<00:03, 14.24it/s]"
     ]
    },
    {
     "name": "stdout",
     "output_type": "stream",
     "text": [
      "0.2429183627363826\n",
      "0.07164083805948085\n",
      "0.005743562414362989\n",
      "0.013058389435006097\n"
     ]
    },
    {
     "name": "stderr",
     "output_type": "stream",
     "text": [
      " 63%|██████▎   | 82/130 [00:05<00:03, 14.04it/s]"
     ]
    },
    {
     "name": "stdout",
     "output_type": "stream",
     "text": [
      "0.03159390808056336\n",
      "0.06764683326723017\n",
      "0.155100220904255\n",
      "0.3427428193055142\n"
     ]
    },
    {
     "name": "stderr",
     "output_type": "stream",
     "text": [
      " 66%|██████▌   | 86/130 [00:05<00:03, 13.83it/s]"
     ]
    },
    {
     "name": "stdout",
     "output_type": "stream",
     "text": [
      "0.051729941542155544\n",
      "0.053693382065142486\n",
      "0.11604855587286755\n"
     ]
    },
    {
     "name": "stderr",
     "output_type": "stream",
     "text": [
      " 68%|██████▊   | 88/130 [00:06<00:03, 13.68it/s]"
     ]
    },
    {
     "name": "stdout",
     "output_type": "stream",
     "text": [
      "0.2913550878454822\n",
      "0.002804133097207926\n",
      "0.00019076244957340165\n"
     ]
    },
    {
     "name": "stderr",
     "output_type": "stream",
     "text": [
      " 71%|███████   | 92/130 [00:06<00:02, 13.07it/s]"
     ]
    },
    {
     "name": "stdout",
     "output_type": "stream",
     "text": [
      "0.00020271735579635802\n",
      "0.00040442265838530763\n",
      "0.0006191316881863988\n"
     ]
    },
    {
     "name": "stderr",
     "output_type": "stream",
     "text": [
      " 72%|███████▏  | 94/130 [00:06<00:02, 12.82it/s]"
     ]
    },
    {
     "name": "stdout",
     "output_type": "stream",
     "text": [
      "0.0008404386662189613\n",
      "0.00109049086109494\n",
      "0.0013992315856206634\n"
     ]
    },
    {
     "name": "stderr",
     "output_type": "stream",
     "text": [
      " 75%|███████▌  | 98/130 [00:06<00:02, 11.43it/s]"
     ]
    },
    {
     "name": "stdout",
     "output_type": "stream",
     "text": [
      "0.0017949420562241754\n",
      "0.00230873150968346\n",
      "0.002982352705644781\n"
     ]
    },
    {
     "name": "stderr",
     "output_type": "stream",
     "text": [
      " 77%|███████▋  | 100/130 [00:07<00:02, 11.81it/s]"
     ]
    },
    {
     "name": "stdout",
     "output_type": "stream",
     "text": [
      "0.003879274825724026\n",
      "0.00510234601811025\n",
      "0.006869007630779609\n"
     ]
    },
    {
     "name": "stderr",
     "output_type": "stream",
     "text": [
      " 78%|███████▊  | 102/130 [00:07<00:02, 12.34it/s]"
     ]
    },
    {
     "name": "stdout",
     "output_type": "stream",
     "text": [
      "0.010505752150002608\n",
      "0.01650456995776147\n"
     ]
    },
    {
     "name": "stderr",
     "output_type": "stream",
     "text": [
      " 82%|████████▏ | 106/130 [00:07<00:02, 10.73it/s]"
     ]
    },
    {
     "name": "stdout",
     "output_type": "stream",
     "text": [
      "0.027279909098354205\n",
      "0.04930885903220496\n",
      "0.10356644990761948\n"
     ]
    },
    {
     "name": "stderr",
     "output_type": "stream",
     "text": [
      " 83%|████████▎ | 108/130 [00:07<00:01, 11.13it/s]"
     ]
    },
    {
     "name": "stdout",
     "output_type": "stream",
     "text": [
      "0.2602026501876656\n",
      "0.34200868726099437\n",
      "0.0054591973223640945\n"
     ]
    },
    {
     "name": "stderr",
     "output_type": "stream",
     "text": [
      " 86%|████████▌ | 112/130 [00:08<00:01, 11.37it/s]"
     ]
    },
    {
     "name": "stdout",
     "output_type": "stream",
     "text": [
      "0.008203390527175216\n",
      "0.016637403776512377\n",
      "0.023667979178162775\n"
     ]
    },
    {
     "name": "stderr",
     "output_type": "stream",
     "text": [
      " 89%|████████▉ | 116/130 [00:08<00:01, 12.91it/s]"
     ]
    },
    {
     "name": "stdout",
     "output_type": "stream",
     "text": [
      "0.03392793754445406\n",
      "0.05478948901755404\n",
      "0.10464372086999921\n",
      "0.24298803413974923\n"
     ]
    },
    {
     "name": "stderr",
     "output_type": "stream",
     "text": [
      " 91%|█████████ | 118/130 [00:08<00:00, 13.21it/s]"
     ]
    },
    {
     "name": "stdout",
     "output_type": "stream",
     "text": [
      "0.06368306607905777\n",
      "0.007952396144663226\n",
      "0.005404190065460522\n"
     ]
    },
    {
     "name": "stderr",
     "output_type": "stream",
     "text": [
      " 94%|█████████▍| 122/130 [00:08<00:00, 12.96it/s]"
     ]
    },
    {
     "name": "stdout",
     "output_type": "stream",
     "text": [
      "0.01085771347579479\n",
      "0.019263230695577855\n",
      "0.03620645402295462\n"
     ]
    },
    {
     "name": "stderr",
     "output_type": "stream",
     "text": [
      " 95%|█████████▌| 124/130 [00:09<00:00, 12.23it/s]"
     ]
    },
    {
     "name": "stdout",
     "output_type": "stream",
     "text": [
      "0.07383846226269752\n",
      "0.17413370326618294\n",
      "0.36032774137026297\n"
     ]
    },
    {
     "name": "stderr",
     "output_type": "stream",
     "text": [
      " 98%|█████████▊| 128/130 [00:09<00:00, 11.90it/s]"
     ]
    },
    {
     "name": "stdout",
     "output_type": "stream",
     "text": [
      "0.07831517472070626\n",
      "0.0001601949952630471\n",
      "9.282034453968625e-05\n"
     ]
    },
    {
     "name": "stderr",
     "output_type": "stream",
     "text": [
      "100%|██████████| 130/130 [00:09<00:00, 13.34it/s]"
     ]
    },
    {
     "name": "stdout",
     "output_type": "stream",
     "text": [
      "5.168898646137638e-05\n",
      "8.809873317355225e-05\n",
      "7.892988237634142e-05\n"
     ]
    },
    {
     "name": "stderr",
     "output_type": "stream",
     "text": [
      "\n"
     ]
    }
   ],
   "source": [
    "# initialize\n",
    "mu_0 = vb.mu_0(X, Y)\n",
    "sigma_0 = 10*np.random.random(p)\n",
    "gamma_0 = np.random.random(p)\n",
    "\n",
    "mu_gaussian, sigma_gaussian, gamma_gaussian = vb.variational_gaussian(X, Y, sigma_0, gamma_0, mu_0, a0=1, b0=p, lamb=1, eps=1e-7, max_it=130)"
   ]
  },
  {
   "cell_type": "code",
   "execution_count": 25,
   "metadata": {},
   "outputs": [
    {
     "data": {
      "text/plain": [
       "(array([False,  True]), array([ 43, 157], dtype=int64))"
      ]
     },
     "execution_count": 25,
     "metadata": {},
     "output_type": "execute_result"
    }
   ],
   "source": [
    "counts_gaussian = np.unique(gamma_gaussian == 1, return_counts=True)\n",
    "counts_gaussian"
   ]
  },
  {
   "cell_type": "code",
   "execution_count": 26,
   "metadata": {},
   "outputs": [],
   "source": [
    "theta_gaussian = gamma_gaussian * np.random.normal(mu_gaussian, sigma_gaussian)\n",
    "results_gaussian = X @ theta_gaussian"
   ]
  },
  {
   "cell_type": "markdown",
   "metadata": {},
   "source": [
    "# Comparison"
   ]
  },
  {
   "cell_type": "code",
   "execution_count": 27,
   "metadata": {},
   "outputs": [
    {
     "data": {
      "image/png": "[encoded data removed]",
      "text/plain": [
       "<Figure size 1800x432 with 1 Axes>"
      ]
     },
     "metadata": {
      "needs_background": "light"
     },
     "output_type": "display_data"
    }
   ],
   "source": [
    "plt.figure(figsize=(25,6))\n",
    "plt.scatter(np.arange(len(theta_generative)), theta_generative, color='red', marker='o', alpha=0.7, label='True value')\n",
    "plt.scatter(np.arange(len(theta_laplace)), theta_laplace, color='blue', marker='x', alpha=0.5, label='Laplace')\n",
    "plt.scatter(np.arange(len(theta_gaussian)), theta_gaussian, color='green', marker='v', alpha=0.5, label='Gaussian')\n",
    "plt.legend(fontsize=20)\n",
    "plt.title('Theta', size=30)\n",
    "plt.xlabel('Index',size=15)\n",
    "\n",
    "plt.show()"
   ]
  },
  {
   "cell_type": "code",
   "execution_count": 28,
   "metadata": {},
   "outputs": [
    {
     "data": {
      "image/png": "[encoded data removed]",
      "text/plain": [
       "<Figure size 1800x720 with 1 Axes>"
      ]
     },
     "metadata": {
      "needs_background": "light"
     },
     "output_type": "display_data"
    }
   ],
   "source": [
    "plt.figure(figsize=(25,10))\n",
    "plt.plot(Y, alpha=0.7, label='True value')\n",
    "plt.plot(results_laplace, alpha=0.5, label='Laplace')\n",
    "plt.plot(results_gaussian, alpha=0.5, label='Gaussian')\n",
    "plt.legend(fontsize=25)\n",
    "plt.title('Y', size=30)\n",
    "plt.xlabel('Index',size=15)\n",
    "\n",
    "plt.show()"
   ]
  },
  {
   "cell_type": "markdown",
   "metadata": {},
   "source": [
    "$\\implies$ Hard to distinguish"
   ]
  },
  {
   "cell_type": "code",
   "execution_count": 31,
   "metadata": {},
   "outputs": [
    {
     "data": {
      "image/png": "[encoded data removed]",
      "text/plain": [
       "<Figure size 1800x432 with 1 Axes>"
      ]
     },
     "metadata": {
      "needs_background": "light"
     },
     "output_type": "display_data"
    }
   ],
   "source": [
    "plt.figure(figsize=(25,6))\n",
    "#plt.plot(Y, color='red', alpha=0.7, label='True value')\n",
    "plt.scatter(range(len(results_gaussian)),results_laplace - Y, label='Laplace')\n",
    "plt.scatter(range(len(results_gaussian)),results_gaussian - Y, label='Gaussian')\n",
    "plt.plot(range(len(results_gaussian)), np.zeros(len(results_gaussian)), '--', color='red')\n",
    "plt.legend(fontsize=25)\n",
    "plt.title('Differences', size=30)\n",
    "plt.xlabel('Index',size=15)\n",
    "\n",
    "plt.show()"
   ]
  },
  {
   "cell_type": "code",
   "execution_count": 32,
   "metadata": {},
   "outputs": [
    {
     "data": {
      "text/plain": [
       "array([ -73.80044883, -138.37021282, -109.13433869,   21.29070526,\n",
       "         61.91590928,  -81.93961204,  214.47312348,  -19.70136864,\n",
       "        -63.34987292, -116.91127745,  142.40394921, -128.99009409,\n",
       "       -139.0577153 ,   29.07759966,   49.80685525])"
      ]
     },
     "execution_count": 32,
     "metadata": {},
     "output_type": "execute_result"
    }
   ],
   "source": [
    "Y[:15]"
   ]
  },
  {
   "cell_type": "code",
   "execution_count": 33,
   "metadata": {},
   "outputs": [
    {
     "data": {
      "text/plain": [
       "array([ -72.71549154, -134.93730699, -108.69534667,   21.11848644,\n",
       "         63.59151315,  -82.85339942,  214.03878777,  -21.88792205,\n",
       "        -64.2133838 , -117.03068963,  140.06145268, -128.67667544,\n",
       "       -140.66642608,   30.87209459,   50.44042842])"
      ]
     },
     "execution_count": 33,
     "metadata": {},
     "output_type": "execute_result"
    }
   ],
   "source": [
    "results_laplace[:15]"
   ]
  },
  {
   "cell_type": "code",
   "execution_count": 34,
   "metadata": {},
   "outputs": [
    {
     "data": {
      "text/plain": [
       "array([ -72.71549154, -134.93730699, -108.69534667,   21.11848644,\n",
       "         63.59151315,  -82.85339942,  214.03878777,  -21.88792205,\n",
       "        -64.2133838 , -117.03068963,  140.06145268, -128.67667544,\n",
       "       -140.66642608,   30.87209459,   50.44042842])"
      ]
     },
     "execution_count": 34,
     "metadata": {},
     "output_type": "execute_result"
    }
   ],
   "source": [
    "results_laplace[:15]"
   ]
  },
  {
   "cell_type": "code",
   "execution_count": null,
   "metadata": {},
   "outputs": [],
   "source": []
  }
 ],
 "metadata": {
  "interpreter": {
   "hash": "6d46af94c2bbce495f1e668725902fa517c90b1782bcfe2fce0dd9868df553d3"
  },
  "kernelspec": {
   "display_name": "Python 3.9.7 ('base')",
   "language": "python",
   "name": "python3"
  },
  "language_info": {
   "codemirror_mode": {
    "name": "ipython",
    "version": 3
   },
   "file_extension": ".py",
   "mimetype": "text/x-python",
   "name": "python",
   "nbconvert_exporter": "python",
   "pygments_lexer": "ipython3",
   "version": "3.9.7"
  },
  "orig_nbformat": 4
 },
 "nbformat": 4,
 "nbformat_minor": 2
}
